{
 "cells": [
  {
   "cell_type": "markdown",
   "metadata": {},
   "source": [
    "### Extract MP components from synthetic data and write to MAT file"
   ]
  },
  {
   "cell_type": "code",
   "execution_count": 1,
   "metadata": {},
   "outputs": [],
   "source": [
    "import h5py\n",
    "import numpy as np\n",
    "from skimage.util import img_as_float\n",
    "from scipy.io import savemat\n",
    "\n",
    "from imagerep import mp_gaussian, reconstruct_image\n"
   ]
  },
  {
   "cell_type": "code",
   "execution_count": 2,
   "metadata": {},
   "outputs": [],
   "source": [
    "# Input and output paths\n",
    "IN_FPATH = '/home/mn2822/Desktop/WormTracking/data/synthetic/gmm_data_3d.h5'\n",
    "OUT_FPATH = '/home/mn2822/Desktop/WormTracking/data/synthetic/syn_data_mp.mat'\n",
    "\n",
    "# Start and stop times for extraction\n",
    "T_START = 0\n",
    "T_STOP = 50\n",
    "\n",
    "# Covariance values for each dimension\n",
    "#COV_DIAG = [4.0, 4.0, 1.0]\n",
    "COV_DIAG = [5.0, 5.0, 5.0]\n",
    "\n",
    "# Number of MP iterations to run\n",
    "#N_ITER = 500\n",
    "N_ITER = 20\n"
   ]
  },
  {
   "cell_type": "code",
   "execution_count": 3,
   "metadata": {},
   "outputs": [
    {
     "name": "stdout",
     "output_type": "stream",
     "text": [
      "Frame: 0\n"
     ]
    }
   ],
   "source": [
    "cov = np.diag(COV_DIAG)\n",
    "means = []\n",
    "weights = []\n",
    "\n",
    "with h5py.File(IN_FPATH, 'r') as f:\n",
    "\n",
    "    dset = f.get('red')\n",
    "\n",
    "    #for t in range(T_START, T_STOP):\n",
    "    for t in range(1):\n",
    "\n",
    "        print(f'Frame: {t}')\n",
    "\n",
    "        # Load frame\n",
    "        img_raw = dset[:, :, :, t]\n",
    "        img = img_as_float(img_raw)\n",
    "\n",
    "        # Extract MP components from frame\n",
    "        mus, wts, _ = mp_gaussian(img, cov, N_ITER)\n",
    "        means.append(mus)\n",
    "        weights.append(wts)"
   ]
  },
  {
   "cell_type": "code",
   "execution_count": null,
   "metadata": {},
   "outputs": [],
   "source": [
    "img_recon = reconstruct_image(mus, wts, [cov] * N_ITER, img.shape)\n",
    "    \n",
    "plt.subplot(121)\n",
    "plt.imshow(np.max(img, 2).T)\n",
    "    \n",
    "plt.subplot(122)\n",
    "plt.imshow(np.max(img_recon, 2).T)"
   ]
  }
 ],
 "metadata": {
  "kernelspec": {
   "display_name": "Python 3",
   "language": "python",
   "name": "python3"
  },
  "language_info": {
   "codemirror_mode": {
    "name": "ipython",
    "version": 3
   },
   "file_extension": ".py",
   "mimetype": "text/x-python",
   "name": "python",
   "nbconvert_exporter": "python",
   "pygments_lexer": "ipython3",
   "version": "3.7.4"
  }
 },
 "nbformat": 4,
 "nbformat_minor": 4
}
