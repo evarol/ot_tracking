{
 "cells": [
  {
   "cell_type": "markdown",
   "metadata": {},
   "source": [
    "# Extract MP components from Zimmer data"
   ]
  },
  {
   "cell_type": "code",
   "execution_count": 1,
   "metadata": {},
   "outputs": [],
   "source": [
    "%matplotlib inline"
   ]
  },
  {
   "cell_type": "code",
   "execution_count": 5,
   "metadata": {},
   "outputs": [],
   "source": [
    "import h5py\n",
    "import numpy as np\n",
    "from skimage.util import img_as_float\n",
    "from scipy.io import savemat\n",
    "\n",
    "from imagerep import mp_gaussian"
   ]
  },
  {
   "cell_type": "code",
   "execution_count": 15,
   "metadata": {},
   "outputs": [],
   "source": [
    "# Path to file containing Zimmer data\n",
    "IN_FPATH = '/home/mn2822/Desktop/WormTracking/data/zimmer/mCherry_v00065-01581.hdf5'\n",
    "\n",
    "# Output path\n",
    "OUT_FPATH = '/home/mn2822/Desktop/WormTracking/data/zimmer/mat/test_vid.mat'\n",
    "\n",
    "# Covariance values for each dimension\n",
    "COV_DIAG = [4.0, 4.0, 1.0]\n",
    "\n",
    "# Number of MP iterations to run\n",
    "N_ITER = 10"
   ]
  },
  {
   "cell_type": "code",
   "execution_count": 4,
   "metadata": {},
   "outputs": [
    {
     "name": "stdout",
     "output_type": "stream",
     "text": [
      "Frame: 500\n",
      "Frame: 501\n"
     ]
    }
   ],
   "source": [
    "cov = np.diag(COV_DIAG)\n",
    "points = []\n",
    "weights = []\n",
    "\n",
    "with h5py.File(IN_FPATH, 'r') as f:\n",
    "    \n",
    "    dset = f.get('mCherry')\n",
    "    \n",
    "    for t in range(500, 502):\n",
    "        \n",
    "        print(f'Frame: {t}')\n",
    "        \n",
    "        img_raw = dset[t, 0, :, :, :]\n",
    "        img_raw = np.moveaxis(img_raw, [0, 1, 2], [2, 1, 0])\n",
    "        img = img_as_float(img_raw)\n",
    "        \n",
    "        pts, wts, _ = mp_gaussian(img, cov, N_ITER)\n",
    "        points.append(pts)\n",
    "        weights.append(wts)"
   ]
  },
  {
   "cell_type": "code",
   "execution_count": 16,
   "metadata": {},
   "outputs": [],
   "source": [
    "# Write to \n",
    "mat_dict = {\n",
    "    'means': np.array(points),\n",
    "    'weights': np.array(weights),\n",
    "    'cov': cov\n",
    "}\n",
    "savemat(OUT_FPATH, mat_dict)"
   ]
  },
  {
   "cell_type": "code",
   "execution_count": null,
   "metadata": {},
   "outputs": [],
   "source": []
  }
 ],
 "metadata": {
  "kernelspec": {
   "display_name": "Python 3",
   "language": "python",
   "name": "python3"
  },
  "language_info": {
   "codemirror_mode": {
    "name": "ipython",
    "version": 3
   },
   "file_extension": ".py",
   "mimetype": "text/x-python",
   "name": "python",
   "nbconvert_exporter": "python",
   "pygments_lexer": "ipython3",
   "version": "3.7.4"
  }
 },
 "nbformat": 4,
 "nbformat_minor": 4
}
