{
 "cells": [
  {
   "cell_type": "markdown",
   "metadata": {},
   "source": [
    "# Test barycenter-based worm straightening"
   ]
  },
  {
   "cell_type": "code",
   "execution_count": 1,
   "metadata": {},
   "outputs": [],
   "source": [
    "%matplotlib inline"
   ]
  },
  {
   "cell_type": "code",
   "execution_count": 2,
   "metadata": {
    "collapsed": false,
    "jupyter": {
     "outputs_hidden": false
    }
   },
   "outputs": [],
   "source": [
    "import numpy as np\n",
    "import matplotlib.pyplot as plt\n",
    "from skimage.transform import downscale_local_mean\n",
    "from scipy.ndimage import geometric_transform\n",
    "from sklearn.preprocessing import PolynomialFeatures\n",
    "from sklearn.linear_model import LinearRegression\n",
    "from sklearn.pipeline import Pipeline\n",
    "\n",
    "import readers\n",
    "from utils import pixel_dist_3d\n",
    "from potmods import barycenter_sinkhorn"
   ]
  },
  {
   "cell_type": "markdown",
   "metadata": {},
   "source": [
    "### Load frames"
   ]
  },
  {
   "cell_type": "code",
   "execution_count": 3,
   "metadata": {},
   "outputs": [],
   "source": [
    "# Location of data\n",
    "data_path = '/home/mn2822/Desktop/WormOT/data/synthetic/fast_3d/gmm_data_3d.h5'\n",
    "\n",
    "# Number of frames to load\n",
    "n_frames = 2\n",
    "\n",
    "with readers.SyntheticReader(data_path) as reader:\n",
    "    \n",
    "    # TODO: Replace this hack with something more permanent\n",
    "    frames = [reader.get_frame(3 * i) for i in range(n_frames)]"
   ]
  },
  {
   "cell_type": "code",
   "execution_count": 4,
   "metadata": {},
   "outputs": [
    {
     "name": "stdout",
     "output_type": "stream",
     "text": [
      "frame shape: (100, 50, 20)\n",
      "num. pixels: 100000\n"
     ]
    },
    {
     "data": {
      "image/png": "[encoded data removed]",
      "text/plain": [
       "<Figure size 432x288 with 2 Axes>"
      ]
     },
     "metadata": {
      "needs_background": "light"
     },
     "output_type": "display_data"
    }
   ],
   "source": [
    "frame_shape = frames[0].shape\n",
    "n_pixels = frame_shape[0] * frame_shape[1] * frame_shape[2]\n",
    "print(f'frame shape: {frame_shape}')\n",
    "print(f'num. pixels: {n_pixels}')\n",
    "\n",
    "for i in range(n_frames):\n",
    "    \n",
    "    plt.subplot(1, n_frames, i + 1)\n",
    "    plt.imshow(np.max(frames[i], 2).T);\n",
    "    plt.title(f'frame {i + 1}')\n",
    "    plt.axis('off')"
   ]
  },
  {
   "cell_type": "markdown",
   "metadata": {},
   "source": [
    "### Downsample frames"
   ]
  },
  {
   "cell_type": "code",
   "execution_count": 5,
   "metadata": {},
   "outputs": [],
   "source": [
    "scl = (2, 2, 2)\n",
    "ds = [downscale_local_mean(f, scl) for f in frames]"
   ]
  },
  {
   "cell_type": "code",
   "execution_count": 6,
   "metadata": {},
   "outputs": [
    {
     "name": "stdout",
     "output_type": "stream",
     "text": [
      "frame shape (downsampled): (50, 25, 10)\n",
      "num. pixels (downsampled): 12500\n"
     ]
    },
    {
     "data": {
      "image/png": "[encoded data removed]",
      "text/plain": [
       "<Figure size 432x288 with 2 Axes>"
      ]
     },
     "metadata": {
      "needs_background": "light"
     },
     "output_type": "display_data"
    }
   ],
   "source": [
    "ds_shape = ds[0].shape\n",
    "n_pixels_ds = ds_shape[0] * ds_shape[1] * ds_shape[2]\n",
    "print(f'frame shape (downsampled): {ds_shape}')\n",
    "print(f'num. pixels (downsampled): {n_pixels_ds}')\n",
    "\n",
    "for i in range(n_frames):\n",
    "    plt.subplot(1, n_frames, i + 1)\n",
    "    plt.imshow(np.max(ds[i], 2).T);\n",
    "    plt.title(f'frame {i + 1}')\n",
    "    plt.axis('off')"
   ]
  },
  {
   "cell_type": "markdown",
   "metadata": {},
   "source": [
    "### Compute barycenter"
   ]
  },
  {
   "cell_type": "code",
   "execution_count": 16,
   "metadata": {},
   "outputs": [],
   "source": [
    "# Normalized pixel distance matrix \n",
    "M_nn = pixel_dist_3d(*ds_shape)\n",
    "M = M_nn / np.median(M_nn)\n",
    "\n",
    "# Entropic regularization parameter\n",
    "reg = 1e-3\n",
    "\n",
    "A = np.hstack([x.reshape(-1, 1) for x in ds])\n",
    "bc_vec, u, v, K = barycenter_sinkhorn(A, M, reg)\n",
    "bc_img = bc_vec.reshape(ds_shape)\n"
   ]
  },
  {
   "cell_type": "code",
   "execution_count": 17,
   "metadata": {},
   "outputs": [
    {
     "data": {
      "text/plain": [
       "(-0.5, 49.5, 24.5, -0.5)"
      ]
     },
     "execution_count": 17,
     "metadata": {},
     "output_type": "execute_result"
    },
    {
     "data": {
      "image/png": "[encoded data removed]",
      "text/plain": [
       "<Figure size 432x288 with 1 Axes>"
      ]
     },
     "metadata": {
      "needs_background": "light"
     },
     "output_type": "display_data"
    }
   ],
   "source": [
    "plt.imshow(np.max(bc_img, 2).T);\n",
    "plt.title('barycenter')\n",
    "plt.axis('off')"
   ]
  },
  {
   "cell_type": "markdown",
   "metadata": {},
   "source": [
    "### Extract transport plan"
   ]
  },
  {
   "cell_type": "code",
   "execution_count": 18,
   "metadata": {},
   "outputs": [],
   "source": [
    "# Frame\n",
    "frame_idx = 1\n",
    "frame = frames[frame_idx]\n",
    "\n",
    "# Transport plan\n",
    "u1 = u[:, frame_idx]\n",
    "v1 = v[:, frame_idx]\n",
    "P = np.diag(u1) @ K @ np.diag(v1)\n",
    "\n"
   ]
  },
  {
   "cell_type": "code",
   "execution_count": 19,
   "metadata": {},
   "outputs": [
    {
     "data": {
      "image/png": "[encoded data removed]",
      "text/plain": [
       "<Figure size 432x288 with 2 Axes>"
      ]
     },
     "metadata": {
      "needs_background": "light"
     },
     "output_type": "display_data"
    }
   ],
   "source": [
    "m1_vec = np.sum(P, axis=0)\n",
    "m2_vec = np.sum(P, axis=1)\n",
    "\n",
    "m1_img = m1_vec.reshape(ds_shape)\n",
    "m2_img = m2_vec.reshape(ds_shape)\n",
    "\n",
    "plt.subplot(121)\n",
    "plt.imshow(np.max(m1_img, 2).T)\n",
    "plt.axis('off')\n",
    "plt.title('marginal 1')\n",
    "\n",
    "plt.subplot(122)\n",
    "plt.imshow(np.max(m2_img, 2).T)\n",
    "plt.axis('off')\n",
    "plt.title('marginal 2');"
   ]
  },
  {
   "cell_type": "code",
   "execution_count": 20,
   "metadata": {},
   "outputs": [],
   "source": [
    "# Compute pushforward from barycenter to original worm\n",
    "T = P / bc_vec.reshape(-1, 1)\n",
    "\n",
    "# Get all pixel coordinates\n",
    "nx, ny, nz = ds_shape\n",
    "[xg, yg, zg] = np.meshgrid(np.arange(nx), np.arange(ny), np.arange(nz))\n",
    "grid_vals = np.hstack(\n",
    "    (xg.reshape(-1, 1), yg.reshape(-1, 1), zg.reshape(-1, 1)))\n",
    "\n",
    "t_vals = T @ grid_vals"
   ]
  },
  {
   "cell_type": "code",
   "execution_count": 21,
   "metadata": {},
   "outputs": [],
   "source": [
    "model = Pipeline([\n",
    "    ('poly', PolynomialFeatures(degree=3)),\n",
    "    ('linear', LinearRegression(fit_intercept=True))\n",
    "])\n",
    "model.fit(grid_vals, t_vals)\n",
    "\n",
    "beta = model.named_steps['linear'].coef_\n",
    "alpha = model.named_steps['linear'].intercept_"
   ]
  },
  {
   "cell_type": "code",
   "execution_count": 22,
   "metadata": {},
   "outputs": [],
   "source": [
    "def inv_map(coords):\n",
    "    in_arr = np.array(coords).reshape(1, -1)\n",
    "    out_arr = model.predict(in_arr)\n",
    "    return tuple(out_arr.flatten())\n",
    "\n",
    "t_frame = geometric_transform(frame, inv_map)"
   ]
  },
  {
   "cell_type": "code",
   "execution_count": 23,
   "metadata": {},
   "outputs": [
    {
     "data": {
      "text/plain": [
       "Text(0.5, 1.0, 'transformed')"
      ]
     },
     "execution_count": 23,
     "metadata": {},
     "output_type": "execute_result"
    },
    {
     "data": {
      "image/png": "[encoded data removed]",
      "text/plain": [
       "<Figure size 432x288 with 2 Axes>"
      ]
     },
     "metadata": {
      "needs_background": "light"
     },
     "output_type": "display_data"
    }
   ],
   "source": [
    "plt.subplot(121)\n",
    "plt.imshow(np.max(frame, 2).T)\n",
    "plt.axis('off')\n",
    "plt.title('original')\n",
    "\n",
    "plt.subplot(122)\n",
    "plt.imshow(np.max(t_frame, 2).T)\n",
    "plt.axis('off')\n",
    "plt.title('transformed')"
   ]
  },
  {
   "cell_type": "code",
   "execution_count": null,
   "metadata": {},
   "outputs": [],
   "source": []
  }
 ],
 "metadata": {
  "kernelspec": {
   "display_name": "Python 3",
   "language": "python",
   "name": "python3"
  },
  "language_info": {
   "codemirror_mode": {
    "name": "ipython",
    "version": 3
   },
   "file_extension": ".py",
   "mimetype": "text/x-python",
   "name": "python",
   "nbconvert_exporter": "python",
   "pygments_lexer": "ipython3",
   "version": "3.7.4"
  }
 },
 "nbformat": 4,
 "nbformat_minor": 4
}
