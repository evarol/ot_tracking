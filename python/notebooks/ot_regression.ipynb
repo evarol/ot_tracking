{
 "cells": [
  {
   "cell_type": "markdown",
   "metadata": {},
   "source": [
    "# OT-guided regression"
   ]
  },
  {
   "cell_type": "code",
   "execution_count": 1,
   "metadata": {},
   "outputs": [],
   "source": [
    "%matplotlib inline"
   ]
  },
  {
   "cell_type": "code",
   "execution_count": 2,
   "metadata": {},
   "outputs": [],
   "source": [
    "import numpy as np\n",
    "import matplotlib.pyplot as plt\n",
    "import ot\n",
    "from scipy.ndimage import affine_transform\n",
    "from scipy.stats import multivariate_normal\n",
    "from sklearn.linear_model import LinearRegression\n",
    "\n",
    "from utils import pixel_dist_3d"
   ]
  },
  {
   "cell_type": "markdown",
   "metadata": {},
   "source": [
    "## Create synthetic data"
   ]
  },
  {
   "cell_type": "markdown",
   "metadata": {},
   "source": [
    "### Source frame"
   ]
  },
  {
   "cell_type": "code",
   "execution_count": 3,
   "metadata": {},
   "outputs": [
    {
     "name": "stdout",
     "output_type": "stream",
     "text": [
      "frame shape: (50, 25, 5)\n",
      "num. pixels: 6250\n"
     ]
    },
    {
     "data": {
      "image/png": "[encoded data removed]",
      "text/plain": [
       "<Figure size 432x288 with 1 Axes>"
      ]
     },
     "metadata": {
      "needs_background": "light"
     },
     "output_type": "display_data"
    }
   ],
   "source": [
    "img_shape = (50, 25, 5)\n",
    "n_pixels = img_shape[0] * img_shape[1] * img_shape[2]\n",
    "\n",
    "# Grid for evaluating densities on\n",
    "xg, yg, zg = np.mgrid[0:img_shape[0], 0:img_shape[1], 0:img_shape[2]]\n",
    "grid = np.stack((xg, yg, zg), axis=-1)\n",
    "\n",
    "# Source frame is Gaussian PDF\n",
    "mu = np.array([20, 10, 3])\n",
    "cov = 5 * np.eye(3)\n",
    "frame_1 = multivariate_normal.pdf(grid, mu, cov).reshape(img_shape)\n",
    "\n",
    "print(f'frame shape: {img_shape}')\n",
    "print(f'num. pixels: {n_pixels}')\n",
    "\n",
    "plt.imshow(np.max(frame_1, 2).T);\n",
    "plt.title('frame 1')\n",
    "plt.axis('off');"
   ]
  },
  {
   "cell_type": "markdown",
   "metadata": {},
   "source": [
    "### Target frame"
   ]
  },
  {
   "cell_type": "code",
   "execution_count": 4,
   "metadata": {},
   "outputs": [
    {
     "data": {
      "image/png": "[encoded data removed]",
      "text/plain": [
       "<Figure size 432x288 with 1 Axes>"
      ]
     },
     "metadata": {
      "needs_background": "light"
     },
     "output_type": "display_data"
    }
   ],
   "source": [
    "# Affine transformation to apply to source image\n",
    "beta = np.eye(3, 3)\n",
    "alpha = np.array([20, 0, 0])\n",
    "\n",
    "# Inverse of transformation (for transforming frame)\n",
    "inv_beta = np.linalg.inv(beta)\n",
    "inv_alpha = -inv_beta @ alpha\n",
    "\n",
    "# Transform source frame into target frame\n",
    "frame_2 = affine_transform(frame_1, inv_beta, inv_alpha)\n",
    "\n",
    "plt.imshow(np.max(frame_2, 2).T);\n",
    "plt.title('frame 2')\n",
    "plt.axis('off');"
   ]
  },
  {
   "cell_type": "markdown",
   "metadata": {},
   "source": [
    "## Compare OT-based regression methods for recovering tranformation between frames"
   ]
  },
  {
   "cell_type": "markdown",
   "metadata": {},
   "source": [
    "### Compute optimal transport plan between frames"
   ]
  },
  {
   "cell_type": "code",
   "execution_count": 5,
   "metadata": {},
   "outputs": [],
   "source": [
    "# Normalized pixel distance matrix \n",
    "M_nn = pixel_dist_3d(*img_shape)\n",
    "M = M_nn / np.median(M_nn)\n",
    "\n",
    "# Entropic regularization parameter\n",
    "reg = 1e-3\n",
    "\n",
    "# Compute transport plan\n",
    "P = ot.sinkhorn(frame_1.flatten(), frame_2.flatten(), M, reg, verbose=False)"
   ]
  },
  {
   "cell_type": "markdown",
   "metadata": {},
   "source": [
    "### Compute values used for all regression methods"
   ]
  },
  {
   "cell_type": "code",
   "execution_count": 6,
   "metadata": {},
   "outputs": [],
   "source": [
    "# Compute pushforward\n",
    "Q = P / frame_1.reshape(-1, 1)\n",
    "\n",
    "# Matrix containing pixel coordinates\n",
    "X = grid.reshape(-1, 3)\n",
    "\n",
    "# Multiply grid points by pushforward matrix to get 'transformed' points\n",
    "Y = Q @ X"
   ]
  },
  {
   "cell_type": "code",
   "execution_count": 7,
   "metadata": {},
   "outputs": [],
   "source": [
    "def print_regression_report(alpha_est, beta_est, verbose=False):\n",
    "    \n",
    "    alpha_mse = np.sum((alpha_est - alpha) ** 2) / 3\n",
    "    beta_mse = np.sum((beta_est - beta) ** 2) / 9\n",
    "\n",
    "    print(f'MSE (alpha): {alpha_mse:7.4f}')\n",
    "    print(f'MSE (beta):  {beta_mse:7.4f}')\n",
    "\n",
    "    if verbose:\n",
    "        \n",
    "        print('alpha (est):')\n",
    "        print(alpha_est)\n",
    "\n",
    "        print('beta (est):')\n",
    "        print(beta_est)"
   ]
  },
  {
   "cell_type": "markdown",
   "metadata": {},
   "source": [
    "### Method 1: Ordinary Least Squares (OLS) regression with no weights"
   ]
  },
  {
   "cell_type": "code",
   "execution_count": 8,
   "metadata": {},
   "outputs": [
    {
     "name": "stdout",
     "output_type": "stream",
     "text": [
      "MSE (alpha): 12.0839\n",
      "MSE (beta):   0.0276\n"
     ]
    }
   ],
   "source": [
    "ols = LinearRegression(fit_intercept=True)\n",
    "ols.fit(X, Y)\n",
    "\n",
    "print_regression_report(ols.intercept_, ols.coef_)"
   ]
  },
  {
   "cell_type": "markdown",
   "metadata": {},
   "source": [
    "### Method 2: Weights are pixel values from first frame"
   ]
  },
  {
   "cell_type": "code",
   "execution_count": 9,
   "metadata": {},
   "outputs": [
    {
     "name": "stdout",
     "output_type": "stream",
     "text": [
      "MSE (alpha):  0.2058\n",
      "MSE (beta):   0.0003\n"
     ]
    }
   ],
   "source": [
    "wls_1 = LinearRegression(fit_intercept=True)\n",
    "wls_1.fit(X, Y, sample_weight=frame_1.flatten())\n",
    "\n",
    "print_regression_report(wls_1.intercept_, wls_1.coef_)"
   ]
  },
  {
   "cell_type": "markdown",
   "metadata": {},
   "source": [
    "### Method 3: Weights are inverse variance values"
   ]
  },
  {
   "cell_type": "code",
   "execution_count": 10,
   "metadata": {},
   "outputs": [
    {
     "name": "stdout",
     "output_type": "stream",
     "text": [
      "MSE (alpha): 74.8537\n",
      "MSE (beta):   0.0578\n"
     ]
    }
   ],
   "source": [
    "# Compute isotropic variances for each pixel\n",
    "sq_dist = ot.dist(X, Y, metric='sqeuclidean')\n",
    "var = np.sum(sq_dist * Q / 3, axis=1)\n",
    "\n",
    "# Set weights to reciprocal of variance\n",
    "weights = 1 / var\n",
    "\n",
    "wls_2 = LinearRegression(fit_intercept=True)\n",
    "wls_2.fit(X, Y, sample_weight=weights)\n",
    "\n",
    "print_regression_report(wls_2.intercept_, wls_2.coef_)"
   ]
  }
 ],
 "metadata": {
  "kernelspec": {
   "display_name": "Python 3",
   "language": "python",
   "name": "python3"
  },
  "language_info": {
   "codemirror_mode": {
    "name": "ipython",
    "version": 3
   },
   "file_extension": ".py",
   "mimetype": "text/x-python",
   "name": "python",
   "nbconvert_exporter": "python",
   "pygments_lexer": "ipython3",
   "version": "3.7.4"
  }
 },
 "nbformat": 4,
 "nbformat_minor": 4
}
