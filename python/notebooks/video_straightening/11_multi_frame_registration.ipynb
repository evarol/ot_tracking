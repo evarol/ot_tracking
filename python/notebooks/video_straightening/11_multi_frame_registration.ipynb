{
 "cells": [
  {
   "cell_type": "markdown",
   "metadata": {},
   "source": [
    "# Registering multiple frames to first frame"
   ]
  },
  {
   "cell_type": "markdown",
   "metadata": {},
   "source": [
    "## Imports and magics"
   ]
  },
  {
   "cell_type": "code",
   "execution_count": 1,
   "metadata": {},
   "outputs": [],
   "source": [
    "%load_ext autoreload\n",
    "%autoreload 2\n",
    "%matplotlib inline"
   ]
  },
  {
   "cell_type": "code",
   "execution_count": 2,
   "metadata": {},
   "outputs": [],
   "source": [
    "import ot\n",
    "import numpy as np\n",
    "import matplotlib.pyplot as plt\n",
    "from scipy.io import loadmat\n",
    "from sklearn.preprocessing import PolynomialFeatures\n",
    "from sklearn.linear_model import LinearRegression\n",
    "from sklearn.pipeline import Pipeline\n",
    "\n",
    "from otimage import imagerep, readers\n",
    "from otimage.utils import plot_maxproj"
   ]
  },
  {
   "cell_type": "markdown",
   "metadata": {},
   "source": [
    "## Implement OT registration (polynomial)"
   ]
  },
  {
   "cell_type": "code",
   "execution_count": 3,
   "metadata": {},
   "outputs": [],
   "source": [
    "def _compute_ot(pts_1, pts_2, wts_1, wts_2):\n",
    "    \"\"\"Normalize weights and compute OT matrix.\"\"\"\n",
    "    \n",
    "    # Normalize weights\n",
    "    p_1 = wts_1 / np.sum(wts_1)\n",
    "    p_2 = wts_2 / np.sum(wts_2)\n",
    "\n",
    "    # Normalized distance matrix \n",
    "    M_nn = ot.dist(pts_1, pts_2, metric='sqeuclidean')\n",
    "    M = M_nn / np.median(M_nn)\n",
    "    \n",
    "    # Compute transport plan\n",
    "    return ot.emd(p_1, p_2, M, log=True)\n",
    "    \n",
    "\n",
    "def _ot_reg(pts_1, pts_2, p_mtx):\n",
    "    \"\"\"Compute weighted polynomial regression using OT plan\"\"\"\n",
    "    \n",
    "    # Get pairs of points with values above threshold, and corresponding weights from P matrix\n",
    "    idx_1, idx_2 = np.nonzero(p_mtx)\n",
    "    x = pts_1[idx_1]\n",
    "    y = pts_2[idx_2]\n",
    "    smp_wt = p_mtx[idx_1, idx_2]\n",
    "\n",
    "    # Use sklearn to minimize cost function\n",
    "    model = Pipeline([\n",
    "        ('poly', PolynomialFeatures(degree=3)),\n",
    "        ('linear', LinearRegression(fit_intercept=True))\n",
    "    ])\n",
    "    model.fit(x, y, linear__sample_weight=smp_wt)\n",
    "\n",
    "   \n",
    "    return model\n",
    "\n",
    "\n",
    "def ot_reg_poly(pts_s, pts_t, wts_s, wts_t, n_iter, pts_0=None):\n",
    "    \"\"\"EM-based OT registration method with polynomial model.\"\"\"\n",
    "    \n",
    "    pts = [None] * (n_iter + 1)\n",
    "    model = [None] * n_iter\n",
    "    p_mtx = [None] * n_iter\n",
    "    ot_log = [None] * n_iter\n",
    "    \n",
    "    if pts_0 is None:\n",
    "        pts[0] = pts_s\n",
    "    else:\n",
    "        pts[0] = pts_0\n",
    "    \n",
    "    for i in range(n_iter):\n",
    "        \n",
    "        # E-step: Compute OT between current points and target points\n",
    "        p_mtx[i], ot_log[i] = _compute_ot(pts[i], pts_t, wts_s, wts_t)\n",
    "        \n",
    "        # M-step: Compute new mapping using transport plan\n",
    "        model[i] =  _ot_reg(pts_s, pts_t, p_mtx[i])\n",
    "       \n",
    "        # Update points \n",
    "        pts[i + 1] = model[i].predict(pts_s)\n",
    "       \n",
    "    debug = {\n",
    "        'model': model,\n",
    "        'pts': pts,\n",
    "        'p_mtx': p_mtx,\n",
    "        'ot_log': ot_log,\n",
    "    }\n",
    "    \n",
    "    return model[-1], debug"
   ]
  },
  {
   "cell_type": "markdown",
   "metadata": {},
   "source": [
    "## Load data"
   ]
  },
  {
   "cell_type": "code",
   "execution_count": null,
   "metadata": {},
   "outputs": [],
   "source": [
    "# Frames to load\n",
    "t_start = 3\n",
    "n_frames = 20\n",
    "t_vals = range(t_start, t_start + n_frames)\n",
    "\n",
    "# Load frames from dataset\n",
    "img_path = '/home/mn2822/Desktop/WormOT/data/zimmer/raw/mCherry_v00065-00115.hdf5'\n",
    "with readers.ZimmerReader(img_path) as reader:\n",
    "    img = [reader.get_frame(t) for t in t_vals]\n",
    "    img_shape = img[0].shape\n",
    "\n",
    "# Load MP components\n",
    "mp_path = '/home/mn2822/Desktop/WormOT/data/zimmer/mp_components/mp_0000_0050.mat'\n",
    "mp_data = loadmat(mp_path)\n",
    "cov = mp_data['cov']\n",
    "pts = [mp_data['means'][t, :, :] for t in t_vals]\n",
    "wts = [mp_data['weights'][t, :, 0] for t in t_vals]\n",
    "\n",
    "# Reconstruct images from MPs\n",
    "rec = [imagerep.reconstruct_image(pts[i], [cov], wts[i], img_shape) for i in range(n_frames)]\n",
    "\n",
    "# Indices to plot\n",
    "k1 = 0\n",
    "k2 = -1\n",
    "  \n",
    "plt.figure(figsize=(10, 10))\n",
    "\n",
    "plt.subplot(221)\n",
    "plot_maxproj(img[k1])\n",
    "plt.title(f'frame: {t_vals[k1]}')\n",
    "plt.axis('off')\n",
    "\n",
    "plt.subplot(222)\n",
    "plot_maxproj(img[k2])\n",
    "plt.title(f'frame: {t_vals[k2]}')\n",
    "plt.axis('off');\n",
    "\n",
    "plt.subplot(223)\n",
    "plot_maxproj(rec[k1])\n",
    "plt.title('MP recon')\n",
    "plt.axis('off')\n",
    "\n",
    "plt.subplot(224)\n",
    "plot_maxproj(rec[k2])\n",
    "plt.title('MP recon')\n",
    "plt.axis('off');"
   ]
  },
  {
   "cell_type": "markdown",
   "metadata": {},
   "source": [
    "## Approach 1: Register all frames to first frame directly"
   ]
  },
  {
   "cell_type": "code",
   "execution_count": null,
   "metadata": {},
   "outputs": [],
   "source": [
    "models_1 = [None] * (n_frames - 1)\n",
    "debug_1 = [None] * (n_frames - 1)\n",
    "\n",
    "for t in range(n_frames - 1):\n",
    "    models_1[t], debug_1[t] = ot_reg_poly(pts[0], pts[t + 1], wts[0], wts[t + 1], 50)"
   ]
  },
  {
   "cell_type": "markdown",
   "metadata": {},
   "source": [
    "## Reconstruct frame from mapping"
   ]
  },
  {
   "cell_type": "code",
   "execution_count": null,
   "metadata": {},
   "outputs": [],
   "source": [
    "t = 19\n",
    "\n",
    "t_rec_pts = models_1[t-1].predict(pts[0])\n",
    "t_rec = imagerep.reconstruct_image_2(t_rec_pts, wts[0], cov, img_shape)\n",
    "\n",
    "plt.figure(figsize=(15, 15))\n",
    "\n",
    "plt.subplot(121)\n",
    "plot_maxproj(rec[t])\n",
    "plt.title(f'frame: {t}')\n",
    "plt.axis('off')\n",
    "        \n",
    "plt.subplot(122)\n",
    "plot_maxproj(t_rec)\n",
    "plt.title('reconstruction')\n",
    "plt.axis('off')"
   ]
  },
  {
   "cell_type": "markdown",
   "metadata": {},
   "source": [
    "## Approach 2: Register all frames to first frame using pushforward\n",
    "\n",
    "TODO: Re-visit this. Might be a bug -- it should be working at least as well as first approach."
   ]
  },
  {
   "cell_type": "code",
   "execution_count": null,
   "metadata": {},
   "outputs": [],
   "source": [
    "#models_2 = [None] * (n_frames - 1)\n",
    "#debug_2 = [None] * (n_frames - 1)\n",
    "\n",
    "#pf = [None] * n_frames\n",
    "#pf[0] = pts[0]\n",
    "\n",
    "#for t in range(n_frames - 1):\n",
    "    \n",
    "#    models_2[t], debug_2[t] = ot_reg_poly(pts[0], pts[t + 1], wts[0], wts[t + 1], 50, pf[t])\n",
    "#    pf[t + 1] = models_2[t].predict(pts[0])"
   ]
  },
  {
   "cell_type": "markdown",
   "metadata": {},
   "source": [
    "## Reconstruct frame from mapping"
   ]
  },
  {
   "cell_type": "code",
   "execution_count": null,
   "metadata": {},
   "outputs": [],
   "source": [
    "#t = 19\n",
    "\n",
    "#t_rec_pts = models_2[t-1].predict(pts[0])\n",
    "#t_rec = imagerep.reconstruct_image_2(t_rec_pts, wts[0], cov, img_shape)\n",
    "\n",
    "#plt.figure(figsize=(15, 15))\n",
    "\n",
    "#plt.subplot(121)\n",
    "#plot_maxproj(rec[t])\n",
    "#plt.title(f'frame: {t}')\n",
    "#plt.axis('off')\n",
    "        \n",
    "#plt.subplot(122)\n",
    "#plot_maxproj(t_rec)\n",
    "#plt.title('reconstruction')\n",
    "#plt.axis('off')\n",
    "\n",
    "#plt.savefig('/home/mn2822/Desktop/frame_0_19_recon.png')"
   ]
  }
 ],
 "metadata": {
  "kernelspec": {
   "display_name": "Python 3",
   "language": "python",
   "name": "python3"
  },
  "language_info": {
   "codemirror_mode": {
    "name": "ipython",
    "version": 3
   },
   "file_extension": ".py",
   "mimetype": "text/x-python",
   "name": "python",
   "nbconvert_exporter": "python",
   "pygments_lexer": "ipython3",
   "version": "3.7.4"
  }
 },
 "nbformat": 4,
 "nbformat_minor": 4
}
