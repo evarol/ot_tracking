{
 "cells": [
  {
   "cell_type": "markdown",
   "metadata": {},
   "source": [
    "# Script for creating synthetic, 3D mixture-of-Gaussians data"
   ]
  },
  {
   "cell_type": "code",
   "execution_count": 1,
   "metadata": {},
   "outputs": [],
   "source": [
    "%matplotlib inline"
   ]
  },
  {
   "cell_type": "code",
   "execution_count": 2,
   "metadata": {},
   "outputs": [],
   "source": [
    "import numpy as np\n",
    "import matplotlib.pyplot as plt\n",
    "import matplotlib.animation as animation\n",
    "import h5py\n",
    "from scipy.stats import multivariate_normal\n",
    "from scipy.io import savemat\n",
    "from IPython.display import HTML"
   ]
  },
  {
   "cell_type": "markdown",
   "metadata": {},
   "source": [
    "### Parameters"
   ]
  },
  {
   "cell_type": "code",
   "execution_count": 3,
   "metadata": {},
   "outputs": [],
   "source": [
    "# Path to write to\n",
    "OUT_DIR = '/home/mn2822/Desktop/WormTracking/data/synthetic/spf_test'\n",
    "OUT_FNAME_H5 = 'gmm_data_3d.h5'\n",
    "OUT_FNAME_MAT = 'gmm_data_3d.mat'\n",
    "\n",
    "# Image size \n",
    "IMG_SIZE = [100, 50, 20]\n",
    "\n",
    "# Image size limits\n",
    "IMG_XLIM = [0, 100]\n",
    "IMG_YLIM = [0, 50]\n",
    "IMG_ZLIM = [0, 20]\n",
    "\n",
    "# Number of samples\n",
    "T = 50\n",
    "\n",
    "# Sample rate (Hz)\n",
    "#SMP_RATE = 10\n",
    "SMP_RATE = 150\n",
    "\n",
    "# Number of mixture components\n",
    "#K = 10\n",
    "K = 6\n",
    "\n",
    "# Number of 'cycles' spanning worm (does not need to be integer)\n",
    "#N_CYCLES = 0.75\n",
    "N_CYCLES = 0.25\n",
    "\n",
    "# Frequency of worm movement (Hz)\n",
    "FREQ = 0.5\n",
    "\n",
    "# Amplitude of worm movement (image units)\n",
    "AMP = 12.5\n",
    "\n",
    "# Scale of isotropic covariance matrix for GMM\n",
    "COV_SCL = 5.0\n",
    "\n",
    "# Flag for whether or not to add noise\n",
    "ADD_NOISE = False\n",
    "\n",
    "# Noise level (stddev of Gaussian noise)\n",
    "NOISE_STD = 1e-4"
   ]
  },
  {
   "cell_type": "markdown",
   "metadata": {},
   "source": [
    "### Create time series of mean positions"
   ]
  },
  {
   "cell_type": "code",
   "execution_count": 4,
   "metadata": {},
   "outputs": [],
   "source": [
    "# X-values of means are equally spaced; don't change in time\n",
    "means_x = np.linspace(IMG_XLIM[0], IMG_XLIM[1], K + 2);\n",
    "means_x = means_x[1:K+1];\n",
    "means_x = np.tile(means_x, [T, 1]);\n",
    "\n",
    "# Y-values of means oscillate in time\n",
    "#phases = np.linspace(0, N_CYCLES * 2 * np.pi, K)\n",
    "#phases = phases[:, np.newaxis]\n",
    "#offset = IMG_YLIM[0] + (IMG_YLIM[1] - IMG_YLIM[0]) / 2;\n",
    "#rads = (2 * np.pi * FREQ / SMP_RATE) * np.arange(0, T);\n",
    "#rads = rads[:, np.newaxis]\n",
    "#means_y = offset + AMP * np.sin(rads + phases.T);\n",
    "\n",
    "# TODO: Remove\n",
    "# Y-values of means are same for all components and time points\n",
    "means_y = np.ones((T, K)) * (IMG_YLIM[0] + IMG_YLIM[1]) / 2\n",
    "\n",
    "# Z-values of means are same for all components and time points\n",
    "means_z = np.ones((T, K)) * (IMG_ZLIM[0] + IMG_ZLIM[1]) / 2"
   ]
  },
  {
   "cell_type": "markdown",
   "metadata": {},
   "source": [
    "### Use mean positions to create time series of GMM densities"
   ]
  },
  {
   "cell_type": "code",
   "execution_count": 5,
   "metadata": {},
   "outputs": [],
   "source": [
    "def img_pdf(x, mu, cov):\n",
    "    \"\"\"Compute GMM PDF for given means and variance value.\"\"\"\n",
    "    \n",
    "    n_comp = mu.shape[0]\n",
    "    px_nn = np.zeros((x.shape[0], x.shape[1], x.shape[2]))\n",
    "    \n",
    "    for k in range(n_comp):\n",
    "        px_nn += multivariate_normal.pdf(x, mu[k, :], cov)\n",
    "        \n",
    "    return px_nn / np.sum(px_nn)"
   ]
  },
  {
   "cell_type": "code",
   "execution_count": 6,
   "metadata": {},
   "outputs": [],
   "source": [
    "# Covariance matrix is isotropic, with scale determined by parameter\n",
    "sigma = COV_SCL * np.eye(3);\n",
    "\n",
    "# Create grid for evaluating densities on\n",
    "xg, yg, zg = np.mgrid[-IMG_XLIM[0]:IMG_XLIM[1], -IMG_YLIM[0]:IMG_YLIM[1], -IMG_ZLIM[0]:IMG_ZLIM[1]]\n",
    "grid = np.stack((xg, yg, zg), axis=-1)\n",
    "\n",
    "# Evaluate densities to get sequence of images\n",
    "data = np.zeros((IMG_SIZE[0], IMG_SIZE[1], IMG_SIZE[2], T));\n",
    "for t in range(T):\n",
    "    \n",
    "    # Collect means for all components at time t into array\n",
    "    mu = np.vstack((means_x[t, :], means_y[t, :], means_z[t, :])).T\n",
    "    \n",
    "    # Compute GMM PDF values at grid points\n",
    "    px = img_pdf(grid, mu, sigma)\n",
    "    \n",
    "    \n",
    "    # TODO: Remove\n",
    "    px[px < 0.0003] = 0\n",
    "    \n",
    "    \n",
    "    # Reshape PDF vector into 3D image\n",
    "    data[:, :, :, t] = px"
   ]
  },
  {
   "cell_type": "markdown",
   "metadata": {},
   "source": [
    "### Play synthetic data as video"
   ]
  },
  {
   "cell_type": "code",
   "execution_count": 7,
   "metadata": {},
   "outputs": [
    {
     "data": {
      "text/html": [
       "<video width=\"432\" height=\"288\" controls autoplay loop>\n",
       "  <source type=\"video/mp4\" src=\"data:video/mp4;base64,AAAAHGZ0eXBNNFYgAAACAGlzb21pc28yYXZjMQAAAAhmcmVlAAAWeW1kYXQAAAKfBgX//5vcRem9\n",
       "5tlIt5Ys2CDZI+7veDI2NCAtIGNvcmUgMTUyIC0gSC4yNjQvTVBFRy00IEFWQyBjb2RlYyAtIENv\n",
       "cHlsZWZ0IDIwMDMtMjAxNyAtIGh0dHA6Ly93d3cudmlkZW9sYW4ub3JnL3gyNjQuaHRtbCAtIG9w\n",
       "dGlvbnM6IGNhYmFjPTEgcmVmPTMgZGVibG9jaz0xOjA6MCBhbmFseXNlPTB4MzoweDExMyBtZT1o\n",
       "ZXggc3VibWU9NyBwc3k9MSBwc3lfcmQ9MS4wMDowLjAwIG1peGVkX3JlZj0xIG1lX3JhbmdlPTE2\n",
       "IGNocm9tYV9tZT0xIHRyZWxsaXM9MSA4eDhkY3Q9MSBjcW09MCBkZWFkem9uZT0yMSwxMSBmYXN0\n",
       "X3Bza2lwPTEgY2hyb21hX3FwX29mZnNldD0tMiB0aHJlYWRzPTkgbG9va2FoZWFkX3RocmVhZHM9\n",
       "MSBzbGljZWRfdGhyZWFkcz0wIG5yPTAgZGVjaW1hdGU9MSBpbnRlcmxhY2VkPTAgYmx1cmF5X2Nv\n",
       "bXBhdD0wIGNvbnN0cmFpbmVkX2ludHJhPTAgYmZyYW1lcz0zIGJfcHlyYW1pZD0yIGJfYWRhcHQ9\n",
       "MSBiX2JpYXM9MCBkaXJlY3Q9MSB3ZWlnaHRiPTEgb3Blbl9nb3A9MCB3ZWlnaHRwPTIga2V5aW50\n",
       "PTI1MCBrZXlpbnRfbWluPTYgc2NlbmVjdXQ9NDAgaW50cmFfcmVmcmVzaD0wIHJjX2xvb2thaGVh\n",
       "ZD00MCByYz1jcmYgbWJ0cmVlPTEgY3JmPTIzLjAgcWNvbXA9MC42MCBxcG1pbj0wIHFwbWF4PTY5\n",
       "IHFwc3RlcD00IGlwX3JhdGlvPTEuNDAgYXE9MToxLjAwAIAAAA9PZYiEABP//vexj4FNyAANlzqK\n",
       "eh/hFbH0kFF6sdmgZOoAAAMAAImBjhZAtblacVAAAN+AAbgPfxuSePgAXkflbHBo5iqDpkfW6zQR\n",
       "4RL/56faamC4Z2vgMYD4UFw/R237OTSvWKZYapHcwQnpbGPL3x1QC+4TK1XApEvubIFV79dSVNBT\n",
       "/NtP4+fegEZM9oMC+Khw/LjxOds7/8/IQNNklEbM8FeR7tk1xK6yNbKBfPgu0Ws1941fTvAvjrjO\n",
       "hE10Dv+rPvvPe6QDplBPUzFfFhN69oC8RnLXsEGcf6TjHvU9mqhs8lc46AAAd1F3deeXuqqmgGQL\n",
       "c9hFKXuZj1ddRGmD5/dnHr7GfrcBwCRPcrYSz7791u9s8RQgHb/ZridaXVKXjnLQMAOrNECRpcvv\n",
       "kON+CnsenMIXhtcixwzOfjmGt/nz5LWnbvoj7WOCpmEiz5wR/2tee1EOY54t0eUeIdAXirz2IRr6\n",
       "qnJSIk176Bpm/4mYPpyQBR2Yfr9bHe+XKAj/Y/mV/OmrEPJHoTwc8asYx7fI589/T4o9/1yzVfLT\n",
       "Zc2jxQdqRHc9KbRz9HQyugZHh+vdJA7sv1zzwodwaOda0PdRNESm7cv06k/P/fwAq4PssVWDpgTe\n",
       "rl16nJueox/XxNiQCsGnZwH7EsIRsRcedWm9Bg1kSQqEKugSuZBRx9yFXygUVFDk334MgK/dd0JV\n",
       "EN55jm1U4rLXTELRjw1fTrW23ruxAMXJjq1DN3/HW5CBMr88uH9iMPoUh+O5Ddcyma2nnO2eodez\n",
       "UKRQ+w4J6JG69EhUsCQDNzVttqBFHg8o8ds2+P1qg8yDt+r/7EMGWYLQ+hYQtnUNPD/4wTYXbU/5\n",
       "rnP82Ver84VXwz2U5Fet/l9gTqtefh0GkFOlyZXHz43rkzvrbbjs0NZB6AconxY1v93e90aatOQ9\n",
       "rXyDoLrTEuLR07ck345dO47mKKb28yrcVirJR/QFgI2/51D0AtP4mWQp1DFAHpBrjuj1e3EE5M+x\n",
       "hNSYfgmAz449ts+3f7E/tzshm7M38Ll5j18c6LffOZB3/HhkyfCsFoGY7FSp+Gp9n4kDkaJkPECj\n",
       "JcGq8N86cfoI81ezkBrJh8aOSt4Br5/XTLv9e8AXlGQWqy1Ojk74HDKTrLRTWnbz+HojGEX/WFDa\n",
       "yS7XzkIx1nQFzD1FUS2JJBB1V7AwDAkAQ+GXDuEK3e/j/6nruzCq1OcA8RJ9IC5VAEoNYwVMFq+E\n",
       "Ty4MgUFG7GrVUaQKW7uCX7ia8xXtvdXxcMIBYhTw/YsGbGxREErI+v3ErE/Ir4H05jERBqvr5GwD\n",
       "DFZ4o/YLSD9cpUlnexzMCuLvF6dPgwDeB0cw5w6RXsw03Pz0QvS2XUrINgPHdvtt5YylIqlo10tJ\n",
       "d9woCEHOllnVbHehdBqLohgkwBWBXoNLKm/WY7XhKIFcX3G0EP3QC8qKP/tivoMJdnaz61r58Tlm\n",
       "jWKVz4J9sQyJpslENi+FlWPfIpTa0reJy22bb+9XO5tdpYo1IQabdsXbbUFPfXn1PCYWpW1OVmWP\n",
       "eAkPckRRzNjrySBvOJzX0tpr9LEaxKt9nZJGHXrYTWBWVDo0f3CqZAZwJ6WIDka/UjkJtjIMt7Ff\n",
       "W9+lNxIi+wTkClFzgnriuieNGbdzZUitoQz3gY0W5efZ7ShVcYSBaEfEtHyvu5vV7uE2/MPnRtFa\n",
       "voG9iA7yWbGuMlOZdCDbOH6NJjlQ6CWGeVFNZ6dtVXSnDbK17tjddhw9OYIyQXNNrebmzgfMCh8P\n",
       "QVRyKzLsR/4hSYJwTbdygMzLtPymeHg4gRyjX+/NPRef4evO+WQ8skgB1NOinDmlMrV/7KBcT9v2\n",
       "8oDJI6PmLtucLqsPJD6rzLMORDSJOiF3WjFNt/QxEFcfgLuD9ZQYgNKt/gyO2dXXQAjEF/Eks+pD\n",
       "QeazURLUryLjLOeJFBxwQoNSzNEqFY3e8VS4FaQM27oDjsO70mn2vDPOxwOPr3mfof+6pO5hkue1\n",
       "UBGXnUWiskr2x1J9N6uTMPbELej5nlqq3Mt7PgSzmig8fKdbdyTqE/8SP+MqfFsd51SSAk8nG0+H\n",
       "r8dkRsXNtqHvr6wpMfJDuDPctYhEbni20ir8B+BVHdQ/fJTwHfpgXn6Z3SRG/1rGCPj6PKXoz8e7\n",
       "VyJhUM7QOtTvkphqJuhC+Xure/svpDE4tziQZdajpkdwawO1piw3lJqvWeOb106SscTe6w/uLhel\n",
       "UQczLrWPQnX05NoCPO5/gN+HYhb2qLVIKzz+Hcoadz0l1dBm0Cf2JElquKwDH5i63bUv36cwKYwH\n",
       "dZaJid+1OroiVbujaJR7/ms1xLcXN0JutepG/v0KSReqknDJRuWKhNaVllvlIYRddI+nx3xVVc/c\n",
       "4gZgEJe8jxRlwk4/NlC/nBmF2LoNWg+6bs5UsjR2UP23R5uYVKu2bSGVfS6Wp/WbAeqScydJ+bSY\n",
       "xsuJ/+y4cm4bHLpkbdQzeHbuOL7SawDSg8njg5flUEKIycgSFIPw/pQMVTV4RjXrx5NjsV5bT3Nl\n",
       "NFdvmRoUNIJN/YDzPnl4UfBMqlVE1kxkJtacL9kGWREwnonYBJ+9XMQgcyadUSgTEmGzwZE1Kmt/\n",
       "bFl4XG5AqeX5u1MCTaJzsNzbfMExuM7E9BE9wAW54lJF/dz49hE+1G0uPVlPEB7w7Cruo3lP+WDl\n",
       "MWbgXRlroD16xlLmBazOk6PUnq3dWyq4GS1C43DnPAHr2ZP9HfErHDj6XTDduk0j09eEBPrhOjkV\n",
       "HCRvPKv0r9wYJC2IUmxGb6A4ozoFIyQpa6StM5KO/kEhoRdtHAGzw/hTiK7ylrg+P6wRzuGKRc6b\n",
       "FIMwFP0riEUp85FyREJ8ClbQn3rfFJ6Frcv2vhbnYlHt9Ywf+ifeY51qeoYJPkdne13izrGaItWj\n",
       "D7ZIwGpRW/tknI83Lj5rL9GrbanvKp/AKJUus/IB6nvOHPLrW8+g9b8o70CzqVnEEovqKuNLAXqa\n",
       "+UpIaGCViWf/sWKniWCC7Q1YZMz8InT/A+Dy9bt5MNkd/RnmUUHwGOBQOckqMliVWydShrRxjDhw\n",
       "rnBPKUEPy+Wi4/jTP5DI71DNOxUYPlOHZ9DfkC+9A2/1kf5IdYyjyuwZtWFciAZfVEB/W6858R4L\n",
       "VA/QlJfp02yyOMT74z3XD0KYzLmd9Bnz2PjYMFjVwKfvuO1tERrGMKObzrHHOawp13ywdxp8j4d2\n",
       "gbvJZd9wNclrMvUe+jd27sBuDam9gJXID43VshGqvydqzmNf+3SGKcwlhVgEVzeBE/yW5/MmyBrR\n",
       "014wg7qlkGtmLNJthA7ScnYHgfOiyIeDjRD2AVt6ljtICtYpC+e2Fb/kiWGLHiMMYGHMUCpJtKEz\n",
       "s8n3S9FrM55dqEm0zL38QECK7EtljEsD0MSjSz5pBK4+2GxKwCpzMiBm+kvpqZFz1NX6RmNOzUi8\n",
       "PPjfsXjL7eru6k/LRmR3voDCVBsbQb/V2PQIB7Dz2QDosenFY9L9dTuYyYIHPvBUQIi+1VVg8BlV\n",
       "0bacVLdSdIjXQL94BP6zrDsvnK09KEy4dZYPzTYr+KiHGqNgqDhi+RDgm05xXYRL/SK/RA1HsUgH\n",
       "nwMDZQGV8Y6EuOESxQi1RE4ks5y5z77SIxo84x4nDWg+JUYb7Gly52pGwkVT9LncV03PmR3kA5mw\n",
       "qwSSnDnMyij4BTCTS357xd4SvCtaKbIpvOs7t5TWhlsdO/hDD+UiUkmf6k2kFebK5dOfxDqyAJbD\n",
       "P01b/VcgDs0KKWkSKN7pWMRU3uq2FJtXSrnVC0StnLTFkZ9c4f/Q+886Kt2LDxRtGdS4ThUAKrq9\n",
       "9UR6MEh7+Hdm+wwqKVwiSwYoftmQ8PQgyccC/7MAvskkWn660HTZaKcRUy4xn+NULdQNczfSV06j\n",
       "clDm8VH09f+qzKVhajEkohBBs52lYZcveDAYw0BdqRk2PI5IlHTypDa4sGtac/yunYQN0xms4gEs\n",
       "k9ufJL+7XAUopar6MUzgAA90fd39hgu+aVSR9q80pDSzdF4wdltoBM0u05C0uuCTy31QOChNESWz\n",
       "+vZY1xmr/UNHv+IYEoan6DcEM18PqCld56JoYJztiAShJCU9Xih6VaH4C7YM9MtM9lTS0B372gW0\n",
       "vWX06YDRLd1luun9vJmeKk679Mm1ml4XG/SNr4aSz2wS+mxA5Q0jCpb7yDi4hgAXaJFfTCNAGrId\n",
       "9V+BYwXDRiuG5KrCMTxtkQIyrA9iNBrHZnuf4xL78p+Z0jaIHyLW6WbD/erI1MRDmemGhXe1vK74\n",
       "Chqo90Pz/t5YxQ4GCaIwG0Qgf284T66H4MY1PemBirssr/b+3iyUtJ++VmJvhh9okr5AnuTkbjru\n",
       "K2/tJnZfmV/iQCv7Qd4TgVTlIo6t2kcozupfBT2LiEHNuUrByeDLTBHSTb/ZB0IXALu+O8OVg1CJ\n",
       "D8bdoN9ZpDe0OTKOmWhrRci7dKmlOWqs2pFWqTOmVc6UHdHvABngo5lbXwftYdCddTKUs3/TnR/M\n",
       "SXL+euZo0lJFh38jSxRQEJD90kQdZBJG8pf316X/SKsbyKYDlgfO9lcjDpZP5eVSNFOyXJ+qoJGx\n",
       "35EAQv2VMWfbi0asDmlaAq6TgNc+XSNRzUfVItkkBxv3mGNQVIJMPCTw2BNH3uMeSfnPnLT6uK5c\n",
       "SiOe3F3HPyCWAIZVbkWl9h9VDnD4kjCFX3ZeNmGcbiYILQC7NgovdqD+ha3+/18ixql45BBmicTb\n",
       "hRI2olGyYyBkO7mROokRzh+4sIhIApGaxVaOJcuuFU1kDsGSt19VPUA8SDF54chIn52trBe+DNLs\n",
       "FYqoH9diyI9cQ95PZ6aIvsKFb7O84j2D589nqISSd0J6+3Kk+BdT05fvDxeKjxiQ1CF/0HgRdTjf\n",
       "6uNSHatSyhoOUmazbL7V5lhvdJ9WCAAn43bAPsriqAZsat81iplC42PnMOcH5vetiLyzm5dZrsxV\n",
       "4pC64Z1tPsZLcWNmTSOavNZIvSTGBn6rH44YlDIVyEwh2K/ojPs4KzkTmV3FQPuLRfatsPdi3wJb\n",
       "nM8gMSISppN2uqkWw2jPEOb9yfCnxzkjG5actQoe4uUOfuyh0kZ6hEAVcvJ+EATJT3JP4HsixBte\n",
       "gNPX824uLVKCXt7yVqOiu1clmQ2QZ8IJMZef1ztdw/A3h47Z5Ym0p/EOBV9R/NuKsBGRXtZXfMrl\n",
       "3nV1+SQxmW3r1nX6ZFyBrMJUhAAAAwA+YQAAAHZBmiRsQT/+tSqACENARwAcqnXYX1JxgEq3uk5P\n",
       "zJPW11BhvotMRSlb6yP2LNHxcneKuaQtlTFvvi/wGeSGLdL85HBMeZ0SRNlPVWbgtNdwesee614x\n",
       "oeB3JKx5IArOzMhEp5aTaTgkRSfsPpdrtI04RQ/ggIuAAAAAGUGeQniH/wAAFQUvfKNautEI9sKf\n",
       "SK2iSU0AAAASAZ5hdEO/AAAMpjxHjfTJE4TmAAAAEgGeY2pDvwAAHS/xUl84MNlioQAAADdBmmhJ\n",
       "qEFomUwIJ//+tSqAAARH7UOZGxEfyzemmCcB/4ACpi/Cz+WKLEFvKFMbEFA7JJiG0ysRAAAAGEGe\n",
       "hkURLD//AAAVBdNJZAtu4/9MlxfjnQAAABIBnqV0Q78AAB0rqG5SQ1cGw0EAAAANAZ6nakO/AAAd\n",
       "L/EahgAAABRBmqxJqEFsmUwIJ//+tSqAAAAesAAAABJBnspFFSw//wAAFQXTSWQKuwcAAAANAZ7p\n",
       "dEO/AAAdK6gqFgAAAA0BnutqQ78AAB0v8RqGAAAAFEGa8EmoQWyZTAgn//61KoAAAB6xAAAAEkGf\n",
       "DkUVLD//AAAVBdNJZAq7BwAAAA0Bny10Q78AAB0rqCoXAAAADQGfL2pDvwAAHS/xGoYAAAAUQZs0\n",
       "SahBbJlMCCf//rUqgAAAHrAAAAASQZ9SRRUsP/8AABUF00lkCrsHAAAADQGfcXRDvwAAHSuoKhYA\n",
       "AAANAZ9zakO/AAAdL/EahgAAABRBm3hJqEFsmUwIJ//+tSqAAAAesQAAABJBn5ZFFSw//wAAFQXT\n",
       "SWQKuwYAAAANAZ+1dEO/AAAdK6gqFwAAAA0Bn7dqQ78AAB0v8RqHAAAAFEGbvEmoQWyZTAgn//61\n",
       "KoAAAB6wAAAAEkGf2kUVLD//AAAVBdNJZAq7BwAAAA0Bn/l0Q78AAB0rqCoWAAAADQGf+2pDvwAA\n",
       "HS/xGocAAAAUQZvgSahBbJlMCCX//rUqgAAAHrEAAAASQZ4eRRUsP/8AABUF00lkCrsGAAAADQGe\n",
       "PXRDvwAAHSuoKhYAAAANAZ4/akO/AAAdL/EahwAAABRBmiRJqEFsmUwIJf/+tSqAAAAesAAAABJB\n",
       "nkJFFSw//wAAFQXTSWQKuwcAAAANAZ5hdEO/AAAdK6gqFgAAAA0BnmNqQ78AAB0v8RqHAAAAFEGa\n",
       "aEmoQWyZTAgl//61KoAAAB6xAAAAEkGehkUVLD//AAAVBdNJZAq7BwAAAA0BnqV0Q78AAB0rqCoX\n",
       "AAAADQGep2pDvwAAHS/xGoYAAAAUQZqsSahBbJlMCCP//rUqgAAAHrAAAAASQZ7KRRUsP/8AABUF\n",
       "00lkCrsHAAAADQGe6XRDvwAAHSuoKhYAAAANAZ7rakO/AAAdL/EahgAAABVBmvBJqEFsmUwIf//+\n",
       "qZYAAAMA8IEAAAASQZ8ORRUsP/8AABUF00lkCrsHAAAADQGfLXRDvwAAHSuoKhcAAAANAZ8vakO/\n",
       "AAAdL/EahgAAABVBmzFJqEFsmUwId//+qZYAAAMA8IAAAAWGbW9vdgAAAGxtdmhkAAAAAAAAAAAA\n",
       "AAAAAAAD6AAAHUwAAQAAAQAAAAAAAAAAAAAAAAEAAAAAAAAAAAAAAAAAAAABAAAAAAAAAAAAAAAA\n",
       "AABAAAAAAAAAAAAAAAAAAAAAAAAAAAAAAAAAAAAAAAAAAgAABLB0cmFrAAAAXHRraGQAAAADAAAA\n",
       "AAAAAAAAAAABAAAAAAAAHUwAAAAAAAAAAAAAAAAAAAAAAAEAAAAAAAAAAAAAAAAAAAABAAAAAAAA\n",
       "AAAAAAAAAABAAAAAAbAAAAEgAAAAAAAkZWR0cwAAABxlbHN0AAAAAAAAAAEAAB1MAAAMAAABAAAA\n",
       "AAQobWRpYQAAACBtZGhkAAAAAAAAAAAAAAAAAAAoAAABLABVxAAAAAAALWhkbHIAAAAAAAAAAHZp\n",
       "ZGUAAAAAAAAAAAAAAABWaWRlb0hhbmRsZXIAAAAD021pbmYAAAAUdm1oZAAAAAEAAAAAAAAAAAAA\n",
       "ACRkaW5mAAAAHGRyZWYAAAAAAAAAAQAAAAx1cmwgAAAAAQAAA5NzdGJsAAAAs3N0c2QAAAAAAAAA\n",
       "AQAAAKNhdmMxAAAAAAAAAAEAAAAAAAAAAAAAAAAAAAAAAbABIABIAAAASAAAAAAAAAABAAAAAAAA\n",
       "AAAAAAAAAAAAAAAAAAAAAAAAAAAAAAAAAAAAGP//AAAAMWF2Y0MBZAAV/+EAGGdkABWs2UGwloQA\n",
       "AAMADAAAAwCgPFi2WAEABmjr48siwAAAABx1dWlka2hA8l8kT8W6OaUbzwMj8wAAAAAAAAAYc3R0\n",
       "cwAAAAAAAAABAAAAMgAABgAAAAAUc3RzcwAAAAAAAAABAAAAAQAAAaBjdHRzAAAAAAAAADIAAAAB\n",
       "AAAMAAAAAAEAAB4AAAAAAQAADAAAAAABAAAAAAAAAAEAAAYAAAAAAQAAHgAAAAABAAAMAAAAAAEA\n",
       "AAAAAAAAAQAABgAAAAABAAAeAAAAAAEAAAwAAAAAAQAAAAAAAAABAAAGAAAAAAEAAB4AAAAAAQAA\n",
       "DAAAAAABAAAAAAAAAAEAAAYAAAAAAQAAHgAAAAABAAAMAAAAAAEAAAAAAAAAAQAABgAAAAABAAAe\n",
       "AAAAAAEAAAwAAAAAAQAAAAAAAAABAAAGAAAAAAEAAB4AAAAAAQAADAAAAAABAAAAAAAAAAEAAAYA\n",
       "AAAAAQAAHgAAAAABAAAMAAAAAAEAAAAAAAAAAQAABgAAAAABAAAeAAAAAAEAAAwAAAAAAQAAAAAA\n",
       "AAABAAAGAAAAAAEAAB4AAAAAAQAADAAAAAABAAAAAAAAAAEAAAYAAAAAAQAAHgAAAAABAAAMAAAA\n",
       "AAEAAAAAAAAAAQAABgAAAAABAAAeAAAAAAEAAAwAAAAAAQAAAAAAAAABAAAGAAAAAAEAAAwAAAAA\n",
       "HHN0c2MAAAAAAAAAAQAAAAEAAAAyAAAAAQAAANxzdHN6AAAAAAAAAAAAAAAyAAAR9gAAAHoAAAAd\n",
       "AAAAFgAAABYAAAA7AAAAHAAAABYAAAARAAAAGAAAABYAAAARAAAAEQAAABgAAAAWAAAAEQAAABEA\n",
       "AAAYAAAAFgAAABEAAAARAAAAGAAAABYAAAARAAAAEQAAABgAAAAWAAAAEQAAABEAAAAYAAAAFgAA\n",
       "ABEAAAARAAAAGAAAABYAAAARAAAAEQAAABgAAAAWAAAAEQAAABEAAAAYAAAAFgAAABEAAAARAAAA\n",
       "GQAAABYAAAARAAAAEQAAABkAAAAUc3RjbwAAAAAAAAABAAAALAAAAGJ1ZHRhAAAAWm1ldGEAAAAA\n",
       "AAAAIWhkbHIAAAAAAAAAAG1kaXJhcHBsAAAAAAAAAAAAAAAALWlsc3QAAAAlqXRvbwAAAB1kYXRh\n",
       "AAAAAQAAAABMYXZmNTguMjkuMTAw\n",
       "\">\n",
       "  Your browser does not support the video tag.\n",
       "</video>"
      ],
      "text/plain": [
       "<IPython.core.display.HTML object>"
      ]
     },
     "execution_count": 7,
     "metadata": {},
     "output_type": "execute_result"
    }
   ],
   "source": [
    "# Create list of image plots\n",
    "fig = plt.figure()\n",
    "ims = []\n",
    "for t in range(T):\n",
    "    frame_mp = np.max(data[:, :, :, t], 2)\n",
    "    im = plt.imshow(frame_mp.T, animated=True)\n",
    "    ims.append([im])\n",
    "    \n",
    "# Compile images into animation object\n",
    "ani = animation.ArtistAnimation(\n",
    "    fig, ims, interval=150, blit=True, repeat_delay=1000)\n",
    "\n",
    "# Prevent double-display of animation\n",
    "plt.close()\n",
    "\n",
    "# Display animation in notebook\n",
    "HTML(ani.to_html5_video())"
   ]
  },
  {
   "cell_type": "markdown",
   "metadata": {},
   "source": [
    "### Save data"
   ]
  },
  {
   "cell_type": "code",
   "execution_count": 8,
   "metadata": {},
   "outputs": [],
   "source": [
    "means = np.stack((means_x, means_y, means_z), axis=-1)\n",
    "weights = np.ones((T, K)) * (1 / K)"
   ]
  },
  {
   "cell_type": "code",
   "execution_count": 9,
   "metadata": {},
   "outputs": [],
   "source": [
    "with h5py.File(f'{OUT_DIR}/{OUT_FNAME_H5}', 'w') as f:\n",
    "    \n",
    "    f.create_dataset('video', data=data)\n",
    "    f.create_dataset('means', data=means)\n",
    "    f.create_dataset('weights', data=weights)\n",
    "    f.create_dataset('cov', data=sigma)\n",
    "    \n",
    "    f.attrs['source'] = 'create_gmm_data_3d.ipynb'"
   ]
  },
  {
   "cell_type": "code",
   "execution_count": 10,
   "metadata": {},
   "outputs": [],
   "source": [
    "mat_dict = {\n",
    "    'video': data,\n",
    "    'means': np.array(means),\n",
    "    'weights': np.array(weights),\n",
    "    'cov': sigma\n",
    "}\n",
    "savemat(f'{OUT_DIR}/{OUT_FNAME_MAT}', mat_dict)"
   ]
  }
 ],
 "metadata": {
  "kernelspec": {
   "display_name": "Python 3",
   "language": "python",
   "name": "python3"
  },
  "language_info": {
   "codemirror_mode": {
    "name": "ipython",
    "version": 3
   },
   "file_extension": ".py",
   "mimetype": "text/x-python",
   "name": "python",
   "nbconvert_exporter": "python",
   "pygments_lexer": "ipython3",
   "version": "3.7.4"
  }
 },
 "nbformat": 4,
 "nbformat_minor": 4
}
