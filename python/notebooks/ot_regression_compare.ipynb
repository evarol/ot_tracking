{
 "cells": [
  {
   "cell_type": "markdown",
   "metadata": {},
   "source": [
    "# OT-guided regression"
   ]
  },
  {
   "cell_type": "code",
   "execution_count": 1,
   "metadata": {},
   "outputs": [],
   "source": [
    "%matplotlib inline"
   ]
  },
  {
   "cell_type": "code",
   "execution_count": 2,
   "metadata": {},
   "outputs": [],
   "source": [
    "import numpy as np\n",
    "import matplotlib.pyplot as plt\n",
    "import ot\n",
    "from scipy.ndimage import affine_transform\n",
    "from scipy.stats import multivariate_normal\n",
    "from sklearn.linear_model import LinearRegression\n",
    "\n",
    "from utils import plot_maxproj, pixel_dist_3d"
   ]
  },
  {
   "cell_type": "code",
   "execution_count": 3,
   "metadata": {},
   "outputs": [],
   "source": [
    "np.random.seed(1993)"
   ]
  },
  {
   "cell_type": "markdown",
   "metadata": {},
   "source": [
    "## Create synthetic data"
   ]
  },
  {
   "cell_type": "code",
   "execution_count": 4,
   "metadata": {},
   "outputs": [],
   "source": [
    "# Image size\n",
    "img_shape = (50, 25, 5)\n",
    "n_pixels = img_shape[0] * img_shape[1] * img_shape[2]\n",
    "\n",
    "# Grid for evaluating densities on\n",
    "xg, yg, zg = np.mgrid[0:img_shape[0], 0:img_shape[1], 0:img_shape[2]]\n",
    "grid = np.stack((xg, yg, zg), axis=-1)"
   ]
  },
  {
   "cell_type": "markdown",
   "metadata": {},
   "source": [
    "### Source frame"
   ]
  },
  {
   "cell_type": "code",
   "execution_count": 5,
   "metadata": {},
   "outputs": [],
   "source": [
    "cov = 5 * np.eye(3)\n",
    "mu_1 = np.array([20, 10, 3])\n",
    "mu_2 = np.array([10, 15, 3])\n",
    "\n",
    "cell_1 = multivariate_normal.pdf(grid, mu_1, cov).reshape(img_shape)\n",
    "cell_2 = multivariate_normal.pdf(grid, mu_2, cov).reshape(img_shape)\n",
    "\n",
    "frame_1 = cell_1  + cell_2\n",
    "frame_1[frame_1 < 1e-4] = 0"
   ]
  },
  {
   "cell_type": "markdown",
   "metadata": {},
   "source": [
    "### Target frame"
   ]
  },
  {
   "cell_type": "code",
   "execution_count": 6,
   "metadata": {},
   "outputs": [],
   "source": [
    "# Affine transformation to apply to source image\n",
    "#theta = np.pi / 16\n",
    "#beta = np.array([\n",
    "#    [np.cos(theta), -np.sin(theta), 0], \n",
    "#    [np.sin(theta),  np.cos(theta), 0],\n",
    "#    [0,              0,             1]\n",
    "#])\n",
    "beta = np.eye(3, 3)\n",
    "alpha = np.array([10, 5, 0])\n",
    "#alpha = np.array([0, 0, 0])\n",
    "\n",
    "# Transform source frame into target frame (requires inverse transform)\n",
    "inv_beta = np.linalg.inv(beta)\n",
    "inv_alpha = -inv_beta @ alpha\n",
    "frame_2 = affine_transform(frame_1, inv_beta, inv_alpha)"
   ]
  },
  {
   "cell_type": "markdown",
   "metadata": {},
   "source": [
    "### Add floor values and noise"
   ]
  },
  {
   "cell_type": "code",
   "execution_count": 7,
   "metadata": {},
   "outputs": [],
   "source": [
    "# Parameters\n",
    "floor_val = 1e-7\n",
    "noise_level = 0\n",
    "\n",
    "# Noise is absolute value of Gaussian\n",
    "noise_1 = np.abs(np.random.randn(*img_shape)) * noise_level\n",
    "noise_2 = np.abs(np.random.randn(*img_shape)) * noise_level\n",
    "\n",
    "frame_1 = frame_1 + floor_val + noise_1\n",
    "frame_2 = frame_2 + floor_val + noise_2"
   ]
  },
  {
   "cell_type": "code",
   "execution_count": 8,
   "metadata": {},
   "outputs": [
    {
     "name": "stdout",
     "output_type": "stream",
     "text": [
      "frame shape: (50, 25, 5)\n",
      "num. pixels: 6250\n"
     ]
    },
    {
     "data": {
      "image/png": "[encoded data removed]",
      "text/plain": [
       "<Figure size 432x288 with 2 Axes>"
      ]
     },
     "metadata": {
      "needs_background": "light"
     },
     "output_type": "display_data"
    }
   ],
   "source": [
    "plt.subplot(121)\n",
    "plot_maxproj(frame_1)\n",
    "plt.title('frame 1')\n",
    "plt.axis('off');\n",
    "\n",
    "plt.subplot(122)\n",
    "plot_maxproj(frame_2)\n",
    "plt.title('frame 2')\n",
    "plt.axis('off');\n",
    "\n",
    "print(f'frame shape: {img_shape}')\n",
    "print(f'num. pixels: {n_pixels}')"
   ]
  },
  {
   "cell_type": "markdown",
   "metadata": {},
   "source": [
    "## Compare OT-based regression methods for recovering tranformation between frames"
   ]
  },
  {
   "cell_type": "markdown",
   "metadata": {},
   "source": [
    "### Compute optimal transport plan between frames"
   ]
  },
  {
   "cell_type": "code",
   "execution_count": 9,
   "metadata": {},
   "outputs": [],
   "source": [
    "# Normalized pixel distance matrix \n",
    "M_nn = pixel_dist_3d(*img_shape)\n",
    "M = M_nn / np.median(M_nn)\n",
    "\n",
    "# Entropic regularization parameter\n",
    "reg = 1e-3"
   ]
  },
  {
   "cell_type": "code",
   "execution_count": 10,
   "metadata": {},
   "outputs": [],
   "source": [
    "# Compute transport plan\n",
    "P = ot.sinkhorn(frame_1.flatten(), frame_2.flatten(), M, reg, verbose=False)"
   ]
  },
  {
   "cell_type": "markdown",
   "metadata": {},
   "source": [
    "### Compute values used for all regression methods"
   ]
  },
  {
   "cell_type": "code",
   "execution_count": 11,
   "metadata": {},
   "outputs": [],
   "source": [
    "# Compute pushforward\n",
    "Q = P / frame_1.reshape(-1, 1)\n",
    "\n",
    "# Matrix containing pixel coordinates\n",
    "X = grid.reshape(-1, 3)\n",
    "\n",
    "# Multiply grid points by pushforward matrix to get 'transformed' points\n",
    "Y = Q @ X"
   ]
  },
  {
   "cell_type": "code",
   "execution_count": 12,
   "metadata": {},
   "outputs": [],
   "source": [
    "def print_regression_report(alpha_est, beta_est, verbose=False):\n",
    "    \n",
    "    alpha_mse = np.sum((alpha_est - alpha) ** 2) / 3\n",
    "    beta_mse = np.sum((beta_est - beta) ** 2) / 9\n",
    "    \n",
    "    # Reconstruct frame 2 using estimated transformation\n",
    "    inv_beta_est = np.linalg.inv(beta_est)\n",
    "    inv_alpha_est = -inv_beta_est @ alpha_est\n",
    "    img_recon = affine_transform(frame_1, inv_beta_est, inv_alpha_est)\n",
    "    \n",
    "    img_se = np.sum((img_recon - frame_2) ** 2)\n",
    "\n",
    "    print(f'MSE (alpha): {alpha_mse:7.4f}')\n",
    "    print(f'MSE (beta):  {beta_mse:7.4f}')\n",
    "    print(f'SE  (img):   {img_se:7.4f}')\n",
    "\n",
    "    if verbose:\n",
    "        \n",
    "        print('alpha (est):')\n",
    "        print(alpha_est)\n",
    "\n",
    "        print('beta (est):')\n",
    "        print(beta_est)\n",
    "        \n",
    "        plt.subplot(131)\n",
    "        plot_maxproj(frame_1)\n",
    "        plt.title('frame 1')\n",
    "        \n",
    "        plt.subplot(132)\n",
    "        plot_maxproj(frame_2)\n",
    "        plt.title('frame 2')\n",
    "        \n",
    "        plt.subplot(133)\n",
    "        plot_maxproj(img_recon)\n",
    "        plt.title('frame 2 (recon)')"
   ]
  },
  {
   "cell_type": "markdown",
   "metadata": {},
   "source": [
    "### Method 1: Ordinary Least Squares (OLS) regression with no weights"
   ]
  },
  {
   "cell_type": "code",
   "execution_count": 13,
   "metadata": {},
   "outputs": [
    {
     "name": "stdout",
     "output_type": "stream",
     "text": [
      "MSE (alpha):  4.8737\n",
      "MSE (beta):   0.0128\n",
      "SE  (img):    0.0037\n",
      "alpha (est):\n",
      "[7.29548464 7.70128473 0.09809185]\n",
      "beta (est):\n",
      "[[ 0.85029686  0.02750062  0.01079123]\n",
      " [-0.03565315  0.71657513  0.02792305]\n",
      " [ 0.00335904  0.00661157  0.90439754]]\n"
     ]
    },
    {
     "data": {
      "image/png": "[encoded data removed]",
      "text/plain": [
       "<Figure size 432x288 with 3 Axes>"
      ]
     },
     "metadata": {
      "needs_background": "light"
     },
     "output_type": "display_data"
    }
   ],
   "source": [
    "ols = LinearRegression(fit_intercept=True)\n",
    "ols.fit(X, Y)\n",
    "\n",
    "print_regression_report(ols.intercept_, ols.coef_, verbose=True)"
   ]
  },
  {
   "cell_type": "markdown",
   "metadata": {},
   "source": [
    "### Method 2: Weights are pixel values from first frame"
   ]
  },
  {
   "cell_type": "code",
   "execution_count": 14,
   "metadata": {},
   "outputs": [
    {
     "name": "stdout",
     "output_type": "stream",
     "text": [
      "MSE (alpha):  4.2105\n",
      "MSE (beta):   0.0062\n",
      "SE  (img):    0.0011\n",
      "alpha (est):\n",
      "[8.84387741 8.36009782 0.06896151]\n",
      "beta (est):\n",
      "[[ 1.00624573e+00  8.84845214e-02 -6.39670723e-04]\n",
      " [-5.35591981e-02  7.89958036e-01  1.34360395e-03]\n",
      " [-6.75533381e-05 -5.05392054e-04  9.73420009e-01]]\n"
     ]
    },
    {
     "data": {
      "image/png": "[encoded data removed]",
      "text/plain": [
       "<Figure size 432x288 with 3 Axes>"
      ]
     },
     "metadata": {
      "needs_background": "light"
     },
     "output_type": "display_data"
    }
   ],
   "source": [
    "wls_1 = LinearRegression(fit_intercept=True)\n",
    "wls_1.fit(X, Y, sample_weight=frame_1.flatten())\n",
    "\n",
    "print_regression_report(wls_1.intercept_, wls_1.coef_, verbose=True)"
   ]
  },
  {
   "cell_type": "markdown",
   "metadata": {},
   "source": [
    "### Method 3: Weights are inverse variance values"
   ]
  },
  {
   "cell_type": "code",
   "execution_count": 15,
   "metadata": {},
   "outputs": [
    {
     "name": "stdout",
     "output_type": "stream",
     "text": [
      "MSE (alpha): 38.4165\n",
      "MSE (beta):   0.0012\n",
      "SE  (img):    0.0055\n",
      "alpha (est):\n",
      "[0.43839794 0.11946073 0.074578  ]\n",
      "beta (est):\n",
      "[[ 9.99655171e-01 -1.38674112e-02 -4.53825083e-02]\n",
      " [ 1.92938710e-02  9.72874751e-01 -5.57446917e-02]\n",
      " [ 9.96444052e-04  4.53380463e-03  9.32788647e-01]]\n"
     ]
    },
    {
     "data": {
      "image/png": "[encoded data removed]",
      "text/plain": [
       "<Figure size 432x288 with 3 Axes>"
      ]
     },
     "metadata": {
      "needs_background": "light"
     },
     "output_type": "display_data"
    }
   ],
   "source": [
    "# Compute isotropic variances for each pixel\n",
    "sq_dist = ot.dist(X, Y, metric='sqeuclidean')\n",
    "var = np.sum(sq_dist * Q / 3, axis=1)\n",
    "\n",
    "# Set weights to reciprocal of variance\n",
    "weights = 1 / var\n",
    "\n",
    "wls_2 = LinearRegression(fit_intercept=True)\n",
    "wls_2.fit(X, Y, sample_weight=weights)\n",
    "\n",
    "print_regression_report(wls_2.intercept_, wls_2.coef_, verbose=True)"
   ]
  },
  {
   "cell_type": "markdown",
   "metadata": {},
   "source": [
    "### Method 4: Weights are values from P matrix"
   ]
  },
  {
   "cell_type": "code",
   "execution_count": 16,
   "metadata": {},
   "outputs": [
    {
     "name": "stdout",
     "output_type": "stream",
     "text": [
      "MSE (alpha):  4.2667\n",
      "MSE (beta):   0.0062\n",
      "SE  (img):    0.0011\n",
      "alpha (est):\n",
      "[8.77848333 8.36199926 0.07096308]\n",
      "beta (est):\n",
      "[[ 1.00868565e+00  9.11713171e-02 -1.26977069e-03]\n",
      " [-5.35103802e-02  7.89872804e-01  1.16703836e-03]\n",
      " [-1.32680075e-04 -6.02245604e-04  9.73498222e-01]]\n"
     ]
    },
    {
     "data": {
      "image/png": "[encoded data removed]",
      "text/plain": [
       "<Figure size 432x288 with 3 Axes>"
      ]
     },
     "metadata": {
      "needs_background": "light"
     },
     "output_type": "display_data"
    }
   ],
   "source": [
    "pts = grid.reshape(-1, 3)\n",
    "\n",
    "threshold = 1e-7\n",
    "x_idx, y_idx = np.nonzero(P > threshold)\n",
    "\n",
    "pts_x = pts[x_idx]\n",
    "pts_y = pts[y_idx]\n",
    "weights = P[x_idx, y_idx]\n",
    "\n",
    "wls_3 = LinearRegression(fit_intercept=True)\n",
    "wls_3.fit(pts_x, pts_y, sample_weight=weights)\n",
    "\n",
    "print_regression_report(wls_3.intercept_, wls_3.coef_, verbose=True)"
   ]
  },
  {
   "cell_type": "markdown",
   "metadata": {},
   "source": [
    "### Compute pushforward of pixels\n",
    "\n",
    "We want to see if part of the reason the above regressions aren't working is because of entropy in the OT plan."
   ]
  },
  {
   "cell_type": "code",
   "execution_count": 17,
   "metadata": {},
   "outputs": [],
   "source": [
    "def plot_pushforward(x, y, z):\n",
    "    \n",
    "    # Get pushforward for pixel\n",
    "    lin_idx = np.ravel_multi_index((x, y, z), img_shape)\n",
    "    pf = Q[lin_idx, :]\n",
    "    pf_img = pf.reshape(img_shape)\n",
    "    \n",
    "    fig = plt.figure(figsize=(10, 10))\n",
    "    \n",
    "    plt.subplot(131)\n",
    "    plot_maxproj(frame_1)\n",
    "    plt.plot(x, y, color='red', marker='*', markersize=10)\n",
    "    plt.title('frame 1')\n",
    "    \n",
    "    plt.subplot(132)\n",
    "    plot_maxproj(pf_img)\n",
    "    plt.title('pushforward')\n",
    "    \n",
    "    plt.subplot(133)\n",
    "    plot_maxproj(frame_2)\n",
    "    plt.title('frame 2')"
   ]
  },
  {
   "cell_type": "code",
   "execution_count": 18,
   "metadata": {},
   "outputs": [
    {
     "data": {
      "image/png": "[encoded data removed]",
      "text/plain": [
       "<Figure size 720x720 with 3 Axes>"
      ]
     },
     "metadata": {
      "needs_background": "light"
     },
     "output_type": "display_data"
    }
   ],
   "source": [
    "plot_pushforward(18, 12, 3)"
   ]
  }
 ],
 "metadata": {
  "kernelspec": {
   "display_name": "Python 3",
   "language": "python",
   "name": "python3"
  },
  "language_info": {
   "codemirror_mode": {
    "name": "ipython",
    "version": 3
   },
   "file_extension": ".py",
   "mimetype": "text/x-python",
   "name": "python",
   "nbconvert_exporter": "python",
   "pygments_lexer": "ipython3",
   "version": "3.7.4"
  }
 },
 "nbformat": 4,
 "nbformat_minor": 4
}
