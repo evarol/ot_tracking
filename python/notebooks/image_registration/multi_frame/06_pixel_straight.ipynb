{
 "cells": [
  {
   "cell_type": "markdown",
   "metadata": {},
   "source": [
    "# Straightened video created using registration"
   ]
  },
  {
   "cell_type": "markdown",
   "metadata": {},
   "source": [
    "## Imports and magics"
   ]
  },
  {
   "cell_type": "code",
   "execution_count": 1,
   "metadata": {},
   "outputs": [],
   "source": [
    "%load_ext autoreload\n",
    "%autoreload 2\n",
    "%matplotlib inline"
   ]
  },
  {
   "cell_type": "code",
   "execution_count": 2,
   "metadata": {},
   "outputs": [],
   "source": [
    "from functools import partial\n",
    "\n",
    "import numpy as np\n",
    "import matplotlib.pyplot as plt\n",
    "import matplotlib.animation as animation\n",
    "from IPython.display import HTML\n",
    "from scipy.ndimage import geometric_transform, affine_transform\n",
    "from skimage.transform import downscale_local_mean\n",
    "\n",
    "from otimage import imagerep, imagereg, io\n",
    "from otimage.utils import plot_maxproj_units\n",
    "from otimage.imagereg import ot_registration, gw_registration"
   ]
  },
  {
   "cell_type": "code",
   "execution_count": 3,
   "metadata": {},
   "outputs": [],
   "source": [
    "def downsample_mp(mp, scl_factors):\n",
    "    \n",
    "    scl_array = np.array(scl_factors)\n",
    "    \n",
    "    return imagerep.ImageMP(\n",
    "        mp.pts // scl_array,\n",
    "        mp.wts,\n",
    "        np.diag(np.diag(mp.cov) / scl_array),\n",
    "        mp.img_limits\n",
    "    )"
   ]
  },
  {
   "cell_type": "markdown",
   "metadata": {},
   "source": [
    "## Load Zimmer data"
   ]
  },
  {
   "cell_type": "code",
   "execution_count": 4,
   "metadata": {},
   "outputs": [
    {
     "data": {
      "image/png": "[encoded data removed]",
      "text/plain": [
       "<Figure size 720x720 with 4 Axes>"
      ]
     },
     "metadata": {
      "needs_background": "light"
     },
     "output_type": "display_data"
    }
   ],
   "source": [
    "# Frames to load\n",
    "t_start = 0\n",
    "n_frames = 3\n",
    "t_vals = range(t_start, t_start + n_frames)\n",
    "\n",
    "# Load frames from dataset\n",
    "img_path = '/home/mn2822/Desktop/WormOT/data/zimmer/raw/mCherry_v00065-00115.hdf5'\n",
    "with io.ZimmerReader(img_path) as reader:\n",
    "    units_orig = reader.units\n",
    "    img_orig = [reader.get_frame(t) for t in t_vals]\n",
    "\n",
    "# Load MP components\n",
    "mp_path = '/home/mn2822/Desktop/WormOT/data/zimmer/mp_components/mp_0000_0050.h5'\n",
    "with io.MPReader(mp_path) as reader:\n",
    "    #mps_orig = [reader.get_frame(t) for t in t_vals]\n",
    "    mps = [reader.get_frame(t) for t in t_vals]\n",
    "\n",
    "# Downsample images and MPs\n",
    "scl_factors = (10, 10, 3)\n",
    "units = units_orig * np.array(scl_factors)\n",
    "img = [downscale_local_mean(x, scl_factors) for x in img_orig]\n",
    "#mps = [downsample_mp(x, scl_factors) for x in mps_orig]\n",
    "\n",
    "# Reconstruct images from MPs\n",
    "mp_img = [imagerep.reconstruct_mp_image(mp, units) for mp in mps]\n",
    "\n",
    "# Indices to plot\n",
    "k1 = 0\n",
    "k2 = -1\n",
    "\n",
    "plt.figure(figsize=(10, 10))\n",
    "\n",
    "plt.subplot(221)\n",
    "plot_maxproj_units(img[k1], units)\n",
    "plt.title(f'frame: {t_vals[k1]} (ds)')\n",
    "plt.axis('off')\n",
    "\n",
    "plt.subplot(222)\n",
    "plot_maxproj_units(img[k2], units)\n",
    "plt.title(f'frame: {t_vals[k2]} (ds)')\n",
    "plt.axis('off');\n",
    "\n",
    "plt.subplot(223)\n",
    "plot_maxproj_units(mp_img[k1], units)\n",
    "plt.title('MP recon')\n",
    "plt.axis('off')\n",
    "\n",
    "plt.subplot(224)\n",
    "plot_maxproj_units(mp_img[k2], units)\n",
    "plt.title('MP recon')\n",
    "plt.axis('off');"
   ]
  },
  {
   "cell_type": "markdown",
   "metadata": {},
   "source": [
    "## Compute registrations for images"
   ]
  },
  {
   "cell_type": "markdown",
   "metadata": {},
   "source": [
    "### Register all frames to first frame"
   ]
  },
  {
   "cell_type": "code",
   "execution_count": 5,
   "metadata": {},
   "outputs": [],
   "source": [
    "models = [None] * (n_frames - 1)\n",
    "debug = [None] * (n_frames - 1)\n",
    "\n",
    "# Compute mapping from nth frame to first frame\n",
    "for t in range(n_frames - 1):\n",
    "    models[t], debug[t] = imagereg.ot_registration(mps[0], mps[t + 1], degree=1, n_iter=50)"
   ]
  },
  {
   "cell_type": "markdown",
   "metadata": {},
   "source": [
    "### Reconstruct frames using mappings learned using both methods"
   ]
  },
  {
   "cell_type": "code",
   "execution_count": 6,
   "metadata": {},
   "outputs": [],
   "source": [
    "#mp_straight = [mp_img[0]] + [None] * (n_frames - 1)\n",
    "img_straight = [img[0]] + [None] * (n_frames - 1)\n",
    "\n",
    "def img_map(x, model):\n",
    "    \n",
    "    x_arr = np.array(x).reshape(1, -1)\n",
    "    y_arr = model.predict(x_arr)\n",
    "    return (y_arr[0, 0], y_arr[0, 1], y_arr[0, 2])\n",
    "\n",
    "for t in range(1, n_frames):\n",
    "    \n",
    "    #pb_pts = models[t - 1].predict(mps[0].pts)\n",
    "    #pb_mp = imagerep.ImageMP(pb_pts, mps[0].wts, mps[0].cov, mps[0].img_shape)\n",
    "    #mp_straight[t] = imagerep.reconstruct_mp_image(pb_mp)\n",
    "    \n",
    "    #map_t = partial(img_map, model=models[t - 1])\n",
    "    #img_straight[t] = geometric_transform(img[t], map_t)\n",
    "    \n",
    "    offset = models[t - 1].beta[:, 0]\n",
    "    coef = models[t - 1].beta[:, 1:]\n",
    "    \n",
    "    img_straight[t] = affine_transform(img[t], coef, offset)"
   ]
  },
  {
   "cell_type": "markdown",
   "metadata": {},
   "source": [
    "### Plot single frame next to reconstruction"
   ]
  },
  {
   "cell_type": "code",
   "execution_count": 8,
   "metadata": {},
   "outputs": [
    {
     "data": {
      "image/png": "[encoded data removed]",
      "text/plain": [
       "<Figure size 1080x1080 with 2 Axes>"
      ]
     },
     "metadata": {
      "needs_background": "light"
     },
     "output_type": "display_data"
    }
   ],
   "source": [
    "t = 2\n",
    "\n",
    "plt.figure(figsize=(15, 15))\n",
    "\n",
    "plt.subplot(121)\n",
    "plot_maxproj_units(img[t], units)\n",
    "plt.title(f'frame: {t}')\n",
    "plt.axis('off')\n",
    "        \n",
    "plt.subplot(122)\n",
    "plot_maxproj_units(img_straight[t], units)\n",
    "plt.title('straightened')\n",
    "plt.axis('off');\n",
    "\n",
    "#plt.subplot(121)\n",
    "#plot_maxproj(mp_img[t])\n",
    "#plt.title(f'frame: {t}')\n",
    "#plt.axis('off')\n",
    "        \n",
    "#plt.subplot(122)\n",
    "#plot_maxproj(mp_straight[t])\n",
    "#plt.title('pushforward')\n",
    "#plt.axis('off');"
   ]
  },
  {
   "cell_type": "markdown",
   "metadata": {},
   "source": [
    "### Create video of all frame reconstructions"
   ]
  },
  {
   "cell_type": "code",
   "execution_count": null,
   "metadata": {},
   "outputs": [],
   "source": [
    "# fig, (ax_1, ax_2) = plt.subplots(1, 2, figsize=(15, 15))\n",
    "\n",
    "# ax_1.set_title('frame: 0')\n",
    "# ax_2.set_title('straightened')\n",
    "\n",
    "# ax_1.axis('off')\n",
    "# ax_2.axis('off')\n",
    "\n",
    "# def animate(t):\n",
    "    \n",
    "#     ax_1.set_title(f'frame: {t}')\n",
    "    \n",
    "#     plot_maxproj(mp_img[t], ax=ax_1, animated=True)\n",
    "#     plot_maxproj(rec[t], ax=ax_2, animated=True)\n",
    "    \n",
    "# ani = animation.FuncAnimation(fig, animate, n_frames)\n",
    "# #ani.save('video_straight_ot.mp4')\n",
    "\n",
    "# # Prevent double-display of animation\n",
    "# plt.close()\n",
    "\n",
    "# # Display animation in notebook\n",
    "# HTML(ani.to_html5_video())"
   ]
  }
 ],
 "metadata": {
  "kernelspec": {
   "display_name": "Python 3",
   "language": "python",
   "name": "python3"
  },
  "language_info": {
   "codemirror_mode": {
    "name": "ipython",
    "version": 3
   },
   "file_extension": ".py",
   "mimetype": "text/x-python",
   "name": "python",
   "nbconvert_exporter": "python",
   "pygments_lexer": "ipython3",
   "version": "3.7.4"
  }
 },
 "nbformat": 4,
 "nbformat_minor": 4
}
