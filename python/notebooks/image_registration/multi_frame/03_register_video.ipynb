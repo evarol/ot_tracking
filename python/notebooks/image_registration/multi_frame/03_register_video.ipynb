{
 "cells": [
  {
   "cell_type": "markdown",
   "metadata": {},
   "source": [
    "# Registering multiple frames to first frame"
   ]
  },
  {
   "cell_type": "markdown",
   "metadata": {},
   "source": [
    "## Imports and magics"
   ]
  },
  {
   "cell_type": "code",
   "execution_count": 1,
   "metadata": {},
   "outputs": [],
   "source": [
    "%load_ext autoreload\n",
    "%autoreload 2\n",
    "%matplotlib inline"
   ]
  },
  {
   "cell_type": "code",
   "execution_count": 2,
   "metadata": {},
   "outputs": [],
   "source": [
    "import ot\n",
    "import numpy as np\n",
    "import matplotlib.pyplot as plt\n",
    "import matplotlib.animation as animation\n",
    "from sklearn.preprocessing import PolynomialFeatures\n",
    "from sklearn.linear_model import LinearRegression\n",
    "from sklearn.pipeline import Pipeline\n",
    "from IPython.display import HTML\n",
    "\n",
    "from otimage import imagerep, io \n",
    "from otimage.utils import plot_maxproj_units"
   ]
  },
  {
   "cell_type": "markdown",
   "metadata": {},
   "source": [
    "## Implement EM-based OT registration"
   ]
  },
  {
   "cell_type": "code",
   "execution_count": 3,
   "metadata": {},
   "outputs": [],
   "source": [
    "def _compute_ot(pts_1, pts_2, wts_1, wts_2):\n",
    "    \"\"\"Normalize weights and compute OT matrix.\"\"\"\n",
    "    \n",
    "    # Normalize weights\n",
    "    p_1 = wts_1 / np.sum(wts_1)\n",
    "    p_2 = wts_2 / np.sum(wts_2)\n",
    "\n",
    "    # Normalized distance matrix \n",
    "    M_nn = ot.dist(pts_1, pts_2, metric='sqeuclidean')\n",
    "    M = M_nn / np.median(M_nn)\n",
    "    \n",
    "    # Compute transport plan\n",
    "    return ot.emd(p_1, p_2, M, log=True)\n",
    "    \n",
    "\n",
    "def _ot_reg(pts_1, pts_2, p_mtx):\n",
    "    \"\"\"Compute weighted polynomial regression using OT plan\"\"\"\n",
    "    \n",
    "    # Get pairs of points with values above threshold, and corresponding weights from P matrix\n",
    "    idx_1, idx_2 = np.nonzero(p_mtx)\n",
    "    x = pts_1[idx_1]\n",
    "    y = pts_2[idx_2]\n",
    "    smp_wt = p_mtx[idx_1, idx_2]\n",
    "\n",
    "    # Use sklearn to minimize cost function\n",
    "    model = Pipeline([\n",
    "        ('poly', PolynomialFeatures(degree=3)),\n",
    "        ('linear', LinearRegression(fit_intercept=True))\n",
    "    ])\n",
    "    model.fit(x, y, linear__sample_weight=smp_wt)\n",
    "\n",
    "   \n",
    "    return model\n",
    "\n",
    "\n",
    "def ot_reg_poly(mp_1, mp_2, n_iter):\n",
    "    \"\"\"EM-based OT registration method with polynomial model.\"\"\"\n",
    "    \n",
    "    model = [None] * n_iter\n",
    "    p_mtx = [None] * n_iter\n",
    "    ot_log = [None] * n_iter\n",
    "    \n",
    "    pts = [mp_1.pts] + [None] * n_iter\n",
    "    \n",
    "    for i in range(n_iter):\n",
    "        \n",
    "        # E-step: Compute OT between current points and target points\n",
    "        p_mtx[i], ot_log[i] = _compute_ot(pts[i], mp_2.pts, mp_1.wts, mp_2.wts)\n",
    "        \n",
    "        # M-step: Compute new mapping using transport plan\n",
    "        model[i] =  _ot_reg(mp_1.pts, mp_2.pts, p_mtx[i])\n",
    "       \n",
    "        # Update points \n",
    "        pts[i + 1] = model[i].predict(mp_1.pts)\n",
    "       \n",
    "    debug = {\n",
    "        'model': model,\n",
    "        'pts': pts,\n",
    "        'p_mtx': p_mtx,\n",
    "        'ot_log': ot_log,\n",
    "    }\n",
    "    \n",
    "    return model[-1], debug"
   ]
  },
  {
   "cell_type": "markdown",
   "metadata": {},
   "source": [
    "## Load data"
   ]
  },
  {
   "cell_type": "code",
   "execution_count": null,
   "metadata": {},
   "outputs": [],
   "source": [
    "# Frames to load\n",
    "t_start = 0\n",
    "n_frames = 3\n",
    "t_vals = range(t_start, t_start + n_frames)\n",
    "\n",
    "# Load frames from dataset\n",
    "img_path = '/home/mn2822/Desktop/WormOT/data/zimmer/raw/mCherry_v00065-00115.hdf5'\n",
    "with io.ZimmerReader(img_path) as reader:\n",
    "    units = reader.units\n",
    "    img = [reader.get_frame(t) for t in t_vals]\n",
    "\n",
    "# Load MP components\n",
    "mp_path = '/home/mn2822/Desktop/WormOT/data/zimmer/mp_components/mp_0000_0050.h5'\n",
    "with io.MPReader(mp_path) as reader:\n",
    "    mp = [reader.get_frame(t) for t in t_vals]\n",
    "\n",
    "# Reconstruct images from MPs\n",
    "rec = [imagerep.reconstruct_mp_image(x, units) for x in mp]\n",
    "\n",
    "# Indices to plot\n",
    "k1 = 0\n",
    "k2 = -1\n",
    "  \n",
    "plt.figure(figsize=(10, 10))\n",
    "\n",
    "plt.subplot(221)\n",
    "plot_maxproj_units(img[k1], units)\n",
    "plt.title(f'frame: {t_vals[k1]}')\n",
    "plt.axis('off')\n",
    "\n",
    "plt.subplot(222)\n",
    "plot_maxproj_units(img[k2], units)\n",
    "plt.title(f'frame: {t_vals[k2]}')\n",
    "plt.axis('off');\n",
    "\n",
    "plt.subplot(223)\n",
    "plot_maxproj_units(rec[k1], units)\n",
    "plt.title('MP recon')\n",
    "plt.axis('off')\n",
    "\n",
    "plt.subplot(224)\n",
    "plot_maxproj_units(rec[k2], units)\n",
    "plt.title('MP recon')\n",
    "plt.axis('off');"
   ]
  },
  {
   "cell_type": "markdown",
   "metadata": {},
   "source": [
    "## Register all frames to first frame directly"
   ]
  },
  {
   "cell_type": "code",
   "execution_count": null,
   "metadata": {},
   "outputs": [],
   "source": [
    "models = [None] * (n_frames - 1)\n",
    "debug = [None] * (n_frames - 1)\n",
    "\n",
    "for t in range(n_frames - 1):\n",
    "    models[t], debug[t] = ot_reg_poly(mp[0], mp[t + 1], 50)"
   ]
  },
  {
   "cell_type": "markdown",
   "metadata": {},
   "source": [
    "## Inspect mappings by comparing reconstructions to real frames"
   ]
  },
  {
   "cell_type": "markdown",
   "metadata": {},
   "source": [
    "### Reconstruct all frames by applying learned mapping to first frame"
   ]
  },
  {
   "cell_type": "code",
   "execution_count": null,
   "metadata": {},
   "outputs": [],
   "source": [
    "t_rec = [rec[0]] + [None] * (n_frames - 1)\n",
    "\n",
    "for t in range(n_frames - 1):\n",
    "    \n",
    "    t_rec_pts = models[t].predict(mp[0].pts)\n",
    "    t_mp = imagerep.ImageMP(t_rec_pts, mp[0].wts, mp[0].cov, mp[0].img_limits)\n",
    "    t_rec[t + 1] = imagerep.reconstruct_mp_image(t_mp, units)"
   ]
  },
  {
   "cell_type": "markdown",
   "metadata": {},
   "source": [
    "### Plot single frame next to reconstruction"
   ]
  },
  {
   "cell_type": "code",
   "execution_count": null,
   "metadata": {},
   "outputs": [],
   "source": [
    "t = 5\n",
    "\n",
    "plt.figure(figsize=(15, 15))\n",
    "\n",
    "plt.subplot(121)\n",
    "plot_maxproj(rec[t])\n",
    "plt.title(f'frame: {t}')\n",
    "plt.axis('off')\n",
    "        \n",
    "plt.subplot(122)\n",
    "plot_maxproj(t_rec[t])\n",
    "plt.title('reconstruction')\n",
    "plt.axis('off')"
   ]
  },
  {
   "cell_type": "markdown",
   "metadata": {},
   "source": [
    "### Create video of all frame reconstructions"
   ]
  },
  {
   "cell_type": "code",
   "execution_count": null,
   "metadata": {},
   "outputs": [],
   "source": [
    "fig, (ax_1, ax_2) = plt.subplots(1, 2, figsize=(15, 15))\n",
    "\n",
    "ax_1.set_title('frame')\n",
    "ax_2.set_title('reconstruction')\n",
    "\n",
    "ax_1.axis('off')\n",
    "ax_2.axis('off')\n",
    "\n",
    "def animate(t):\n",
    "    plot_maxproj_units(rec[t], units, ax=ax_1, animated=True)\n",
    "    plot_maxproj_units(t_rec[t], units, ax=ax_2, animated=True)\n",
    "    \n",
    "ani = animation.FuncAnimation(fig, animate, n_frames)\n",
    "\n",
    "#ani.save('ot_reg_demo.mp4')\n",
    "\n",
    "# Prevent double-display of animation\n",
    "plt.close()\n",
    "\n",
    "# Display animation in notebook\n",
    "HTML(ani.to_html5_video())"
   ]
  }
 ],
 "metadata": {
  "kernelspec": {
   "display_name": "Python 3",
   "language": "python",
   "name": "python3"
  },
  "language_info": {
   "codemirror_mode": {
    "name": "ipython",
    "version": 3
   },
   "file_extension": ".py",
   "mimetype": "text/x-python",
   "name": "python",
   "nbconvert_exporter": "python",
   "pygments_lexer": "ipython3",
   "version": "3.7.4"
  }
 },
 "nbformat": 4,
 "nbformat_minor": 4
}
