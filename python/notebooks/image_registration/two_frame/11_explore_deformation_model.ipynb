{
 "cells": [
  {
   "cell_type": "markdown",
   "metadata": {},
   "source": [
    "# Evaluating deformation model on point sets\n",
    "\n",
    "In this notebook, we try to understand what kinds of motion various deformation models are capable of modeling by fitting them to random and carefully chosen point sets."
   ]
  },
  {
   "cell_type": "markdown",
   "metadata": {},
   "source": [
    "## Imports and magics"
   ]
  },
  {
   "cell_type": "code",
   "execution_count": 1,
   "metadata": {},
   "outputs": [],
   "source": [
    "%load_ext autoreload\n",
    "%autoreload 2\n",
    "%matplotlib inline"
   ]
  },
  {
   "cell_type": "code",
   "execution_count": 2,
   "metadata": {},
   "outputs": [],
   "source": [
    "import numpy as np\n",
    "import matplotlib.pyplot as plt\n",
    "import matplotlib.cm as cm\n",
    "import ipywidgets as ipyw\n",
    "from sklearn.preprocessing import PolynomialFeatures\n",
    "from sklearn.linear_model import LinearRegression\n",
    "from sklearn.pipeline import Pipeline"
   ]
  },
  {
   "cell_type": "markdown",
   "metadata": {},
   "source": [
    "## Create random number generator"
   ]
  },
  {
   "cell_type": "code",
   "execution_count": 3,
   "metadata": {},
   "outputs": [],
   "source": [
    "rng = np.random.default_rng(1993)"
   ]
  },
  {
   "cell_type": "markdown",
   "metadata": {},
   "source": [
    "## Create two random point sets"
   ]
  },
  {
   "cell_type": "code",
   "execution_count": 6,
   "metadata": {},
   "outputs": [
    {
     "data": {
      "image/png": "[encoded data removed]",
      "text/plain": [
       "<Figure size 432x288 with 2 Axes>"
      ]
     },
     "metadata": {
      "needs_background": "light"
     },
     "output_type": "display_data"
    }
   ],
   "source": [
    "n_pts = 11\n",
    "x_min = 0 \n",
    "x_max = 100\n",
    "\n",
    "x_1 = rng.integers(x_min, x_max, (n_pts, 3))\n",
    "x_2 = rng.integers(x_min, x_max, (n_pts, 3))\n",
    "\n",
    "fig, (ax_1, ax_2) = plt.subplots(1, 2, sharex=True, sharey=True)\n",
    "ax_1.set_facecolor('black')\n",
    "ax_1.set_title('points 1')\n",
    "ax_2.set_facecolor('black')\n",
    "ax_2.set_title('points 2')\n",
    "\n",
    "colors = cm.rainbow(np.linspace(0, 1, n_pts))\n",
    "\n",
    "for idx in range(n_pts):\n",
    "    \n",
    "    ax_1.plot(x_1[idx, 0], x_1[idx, 1], color=colors[idx], marker='o')\n",
    "    ax_2.plot(x_2[idx, 0], x_2[idx, 1], color=colors[idx], marker='o')"
   ]
  },
  {
   "cell_type": "markdown",
   "metadata": {},
   "source": [
    "## Fit polynomial regression model to point set\n",
    "\n",
    "Polynomial regression models compute a linear regression in a polynomial basis space. Because finding an exact solution (i.e. perfect fit) requires an invertible design matrix, we can only do this if the number of points is less than or equal to the number of linear coefficients. For a quadratic model mapping 3D space to 3D space, we have 10 parameters, so exact solutions will not be possible for point sets more than 10 points."
   ]
  },
  {
   "cell_type": "code",
   "execution_count": 7,
   "metadata": {},
   "outputs": [
    {
     "name": "stdout",
     "output_type": "stream",
     "text": [
      "MSE: 111.04916531125694\n"
     ]
    },
    {
     "data": {
      "image/png": "[encoded data removed]",
      "text/plain": [
       "<Figure size 432x288 with 2 Axes>"
      ]
     },
     "metadata": {
      "needs_background": "light"
     },
     "output_type": "display_data"
    }
   ],
   "source": [
    "# Fit model to point clouds\n",
    "model = Pipeline([\n",
    "    ('poly', PolynomialFeatures(degree=2, include_bias=True)),\n",
    "    ('linear', LinearRegression(fit_intercept=False))\n",
    "])\n",
    "model.fit(x_1, x_2) \n",
    "\n",
    "# Compute MSE\n",
    "x_pred = model.predict(x_1)\n",
    "sq_err = np.sum((x_pred - x_2) ** 2, 1)\n",
    "mse = np.mean(sq_err)\n",
    "print(f'MSE: {mse}')\n",
    "\n",
    "# Plot point clouds and predicted points\n",
    "fig, (ax_1, ax_2) = plt.subplots(1, 2, sharex=True, sharey=True)\n",
    "ax_1.set_facecolor('black')\n",
    "ax_1.set_title('points 1')\n",
    "ax_2.set_facecolor('black')\n",
    "ax_2.set_title('points 2 and predictions')\n",
    "\n",
    "colors = cm.rainbow(np.linspace(0, 1, n_pts))\n",
    "for idx in range(n_pts):\n",
    "    ax_1.plot(x_1[idx, 0], x_1[idx, 1], color=colors[idx], marker='o')\n",
    "    ax_2.plot(x_2[idx, 0], x_2[idx, 1], color=colors[idx], marker='o')\n",
    "    ax_2.plot(x_pred[idx, 0], x_pred[idx, 1], color=colors[idx], marker='o', fillstyle='none')"
   ]
  }
 ],
 "metadata": {
  "kernelspec": {
   "display_name": "Python 3",
   "language": "python",
   "name": "python3"
  },
  "language_info": {
   "codemirror_mode": {
    "name": "ipython",
    "version": 3
   },
   "file_extension": ".py",
   "mimetype": "text/x-python",
   "name": "python",
   "nbconvert_exporter": "python",
   "pygments_lexer": "ipython3",
   "version": "3.7.4"
  }
 },
 "nbformat": 4,
 "nbformat_minor": 4
}
