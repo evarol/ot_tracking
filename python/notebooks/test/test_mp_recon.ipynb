{
 "cells": [
  {
   "cell_type": "markdown",
   "metadata": {},
   "source": [
    "# Test reconstruction of image from MP components"
   ]
  },
  {
   "cell_type": "markdown",
   "metadata": {},
   "source": [
    "## Imports and magics"
   ]
  },
  {
   "cell_type": "code",
   "execution_count": 1,
   "metadata": {},
   "outputs": [],
   "source": [
    "%load_ext autoreload\n",
    "%autoreload 2\n",
    "%matplotlib inline"
   ]
  },
  {
   "cell_type": "code",
   "execution_count": 2,
   "metadata": {},
   "outputs": [],
   "source": [
    "import numpy as np\n",
    "import matplotlib.pyplot as plt\n",
    "\n",
    "from otimage import imagerep, io, utils"
   ]
  },
  {
   "cell_type": "markdown",
   "metadata": {},
   "source": [
    "## Load Zimmer data"
   ]
  },
  {
   "cell_type": "code",
   "execution_count": 3,
   "metadata": {},
   "outputs": [],
   "source": [
    "# Frame index\n",
    "t = 10\n",
    "\n",
    "# Load two successive frames from dataset\n",
    "img_path = '/home/mn2822/Desktop/WormOT/data/zimmer/raw/mCherry_v00065-00115.hdf5'\n",
    "with io.ZimmerReader(img_path) as reader:\n",
    "    units = reader.units\n",
    "    img = reader.get_frame(t)\n",
    "\n",
    "# Load MP components\n",
    "mp_path = '/home/mn2822/Desktop/WormOT/data/zimmer/mp_components/mp_0000_0050.h5'\n",
    "with io.MPReader(mp_path) as reader:\n",
    "    mp = reader.get_frame(t)"
   ]
  },
  {
   "cell_type": "code",
   "execution_count": null,
   "metadata": {},
   "outputs": [],
   "source": [
    "rec_units = np.array([1.0, 1.0, 1.0])\n",
    "rec = imagerep.reconstruct_mp_image(mp, rec_units)\n",
    "\n",
    "fig, (ax_1, ax_2) = plt.subplots(1, 2, sharex=False, sharey=False, figsize=(15, 15))\n",
    "\n",
    "# Plot image in micron units\n",
    "utils.plot_maxproj_units(img, units, ax=ax_1)\n",
    "\n",
    "# Plot reconstruction\n",
    "utils.plot_maxproj_units(rec, units, ax=ax_2);"
   ]
  }
 ],
 "metadata": {
  "kernelspec": {
   "display_name": "Python 3",
   "language": "python",
   "name": "python3"
  },
  "language_info": {
   "codemirror_mode": {
    "name": "ipython",
    "version": 3
   },
   "file_extension": ".py",
   "mimetype": "text/x-python",
   "name": "python",
   "nbconvert_exporter": "python",
   "pygments_lexer": "ipython3",
   "version": "3.7.4"
  }
 },
 "nbformat": 4,
 "nbformat_minor": 4
}
