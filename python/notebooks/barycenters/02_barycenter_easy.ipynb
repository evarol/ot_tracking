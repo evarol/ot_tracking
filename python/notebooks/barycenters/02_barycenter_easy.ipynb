{
 "cells": [
  {
   "cell_type": "markdown",
   "metadata": {},
   "source": [
    "# Barycenter-based worm straightening (easy example)"
   ]
  },
  {
   "cell_type": "code",
   "execution_count": 1,
   "metadata": {},
   "outputs": [],
   "source": [
    "%load_ext autoreload\n",
    "%autoreload\n",
    "%matplotlib inline"
   ]
  },
  {
   "cell_type": "code",
   "execution_count": 2,
   "metadata": {
    "collapsed": false,
    "jupyter": {
     "outputs_hidden": false
    }
   },
   "outputs": [],
   "source": [
    "import numpy as np\n",
    "import matplotlib.pyplot as plt\n",
    "from skimage.transform import downscale_local_mean\n",
    "from scipy.ndimage import geometric_transform\n",
    "from scipy.stats import multivariate_normal\n",
    "from sklearn.preprocessing import PolynomialFeatures\n",
    "from sklearn.linear_model import LinearRegression\n",
    "from sklearn.pipeline import Pipeline\n",
    "\n",
    "from otimage.potmods import barycenter_sinkhorn\n",
    "from otimage.utils import pixel_dist_3d"
   ]
  },
  {
   "cell_type": "markdown",
   "metadata": {},
   "source": [
    "### Create two test frames"
   ]
  },
  {
   "cell_type": "code",
   "execution_count": 3,
   "metadata": {},
   "outputs": [],
   "source": [
    "img_shape = (50, 25, 5)\n",
    "\n",
    "# Grid for evaluating densities on\n",
    "xg, yg, zg = np.mgrid[0:img_shape[0], 0:img_shape[1], 0:img_shape[2]]\n",
    "grid = np.stack((xg, yg, zg), axis=-1)\n",
    "\n",
    "# Means of Gaussian bumps in frames\n",
    "mu_1 = np.array([20, 10, 3])\n",
    "mu_2 = np.array([40, 10, 3])\n",
    "\n",
    "# Covariance is same for both frames\n",
    "cov = 5 * np.eye(3)\n",
    "\n",
    "frame_1 = multivariate_normal.pdf(grid, mu_1, cov).reshape(img_shape)\n",
    "frame_2 = multivariate_normal.pdf(grid, mu_2, cov).reshape(img_shape)"
   ]
  },
  {
   "cell_type": "code",
   "execution_count": 4,
   "metadata": {},
   "outputs": [
    {
     "data": {
      "image/png": "[encoded data removed]",
      "text/plain": [
       "<Figure size 432x288 with 2 Axes>"
      ]
     },
     "metadata": {
      "needs_background": "light"
     },
     "output_type": "display_data"
    }
   ],
   "source": [
    "plt.subplot(121)\n",
    "plt.imshow(np.max(frame_1, 2).T);\n",
    "plt.title('frame 1')\n",
    "plt.axis('off')\n",
    "\n",
    "plt.subplot(122)\n",
    "plt.imshow(np.max(frame_2, 2).T);\n",
    "plt.title('frame 2')\n",
    "plt.axis('off');"
   ]
  },
  {
   "cell_type": "markdown",
   "metadata": {},
   "source": [
    "### Compute barycenter"
   ]
  },
  {
   "cell_type": "code",
   "execution_count": 5,
   "metadata": {},
   "outputs": [],
   "source": [
    "# Normalized pixel distance matrix \n",
    "M_nn = pixel_dist_3d(*img_shape)\n",
    "M = M_nn / np.median(M_nn)\n",
    "\n",
    "# Entropic regularization parameter\n",
    "reg = 1e-3\n",
    "\n",
    "# Compute barycenter and transport plans\n",
    "A = np.hstack([frame_1.reshape(-1, 1), frame_2.reshape(-1, 1)])\n",
    "bc_vec, u, v, K = barycenter_sinkhorn(A, M, reg)\n",
    "bc_img = bc_vec.reshape(img_shape)"
   ]
  },
  {
   "cell_type": "code",
   "execution_count": 6,
   "metadata": {},
   "outputs": [
    {
     "data": {
      "image/png": "[encoded data removed]",
      "text/plain": [
       "<Figure size 432x288 with 3 Axes>"
      ]
     },
     "metadata": {
      "needs_background": "light"
     },
     "output_type": "display_data"
    }
   ],
   "source": [
    "plt.subplot(311)\n",
    "plt.imshow(np.max(frame_1, 2).T);\n",
    "plt.title('frame 1')\n",
    "plt.axis('off')\n",
    "\n",
    "plt.subplot(312)\n",
    "plt.imshow(np.max(bc_img, 2).T);\n",
    "plt.title('barycenter')\n",
    "plt.axis('off')\n",
    "\n",
    "plt.subplot(313)\n",
    "plt.imshow(np.max(frame_2, 2).T);\n",
    "plt.title('frame 2')\n",
    "plt.axis('off');"
   ]
  },
  {
   "cell_type": "markdown",
   "metadata": {},
   "source": [
    "### Compute transport plan"
   ]
  },
  {
   "cell_type": "code",
   "execution_count": 7,
   "metadata": {},
   "outputs": [],
   "source": [
    "# Frame\n",
    "frame_idx = 0\n",
    "frame = frame_1\n",
    "\n",
    "# Reconstruct transport plan from u, v, and K\n",
    "u1 = u[:, frame_idx]\n",
    "v1 = v[:, frame_idx]\n",
    "P = np.diag(u1) @ K @ np.diag(v1)\n",
    "\n",
    "# Compute marginals of transport plan\n",
    "m1_vec = np.sum(P, axis=0)\n",
    "m2_vec = np.sum(P, axis=1)\n",
    "m1_img = m1_vec.reshape(img_shape)\n",
    "m2_img = m2_vec.reshape(img_shape)"
   ]
  },
  {
   "cell_type": "code",
   "execution_count": 8,
   "metadata": {},
   "outputs": [
    {
     "data": {
      "image/png": "[encoded data removed]",
      "text/plain": [
       "<Figure size 432x288 with 2 Axes>"
      ]
     },
     "metadata": {
      "needs_background": "light"
     },
     "output_type": "display_data"
    }
   ],
   "source": [
    "plt.subplot(121)\n",
    "plt.imshow(np.max(m1_img, 2).T)\n",
    "plt.axis('off')\n",
    "plt.title('marginal 1')\n",
    "\n",
    "plt.subplot(122)\n",
    "plt.imshow(np.max(m2_img, 2).T)\n",
    "plt.axis('off')\n",
    "plt.title('marginal 2');"
   ]
  },
  {
   "cell_type": "markdown",
   "metadata": {},
   "source": [
    "### Compute deterministic map from barycenter to original frame"
   ]
  },
  {
   "cell_type": "code",
   "execution_count": 9,
   "metadata": {},
   "outputs": [
    {
     "data": {
      "text/plain": [
       "Pipeline(memory=None,\n",
       "         steps=[('poly',\n",
       "                 PolynomialFeatures(degree=3, include_bias=True,\n",
       "                                    interaction_only=False, order='C')),\n",
       "                ('linear',\n",
       "                 LinearRegression(copy_X=True, fit_intercept=True, n_jobs=None,\n",
       "                                  normalize=False))],\n",
       "         verbose=False)"
      ]
     },
     "execution_count": 9,
     "metadata": {},
     "output_type": "execute_result"
    }
   ],
   "source": [
    "# Compute pushforward from barycenter to original worm\n",
    "T = P / bc_vec.reshape(-1, 1)\n",
    "\n",
    "# Get all pixel coordinates\n",
    "n_grid_pts = img_shape[0] * img_shape[1] * img_shape[2]\n",
    "grid_vals = grid.reshape(n_grid_pts, 3)\n",
    "\n",
    "# Multiply grid points by pushforward matrix to get 'transformed' points\n",
    "t_vals = T @ grid_vals\n",
    "\n",
    "# Fit cubic polynomial regression model to points and transformed points\n",
    "model = Pipeline([\n",
    "    ('poly', PolynomialFeatures(degree=3)),\n",
    "    ('linear', LinearRegression(fit_intercept=True))\n",
    "])\n",
    "model.fit(grid_vals, t_vals)"
   ]
  },
  {
   "cell_type": "markdown",
   "metadata": {},
   "source": [
    "### Use deterministic map to transform original frame to barycenter"
   ]
  },
  {
   "cell_type": "code",
   "execution_count": 10,
   "metadata": {},
   "outputs": [],
   "source": [
    "def inv_map(coords):\n",
    "    in_arr = np.array(coords).reshape(1, -1)\n",
    "    out_arr = model.predict(in_arr)\n",
    "    return tuple(out_arr.flatten())\n",
    "\n",
    "t_frame = geometric_transform(frame, inv_map)"
   ]
  },
  {
   "cell_type": "code",
   "execution_count": 11,
   "metadata": {},
   "outputs": [
    {
     "data": {
      "image/png": "[encoded data removed]",
      "text/plain": [
       "<Figure size 432x288 with 3 Axes>"
      ]
     },
     "metadata": {
      "needs_background": "light"
     },
     "output_type": "display_data"
    }
   ],
   "source": [
    "plt.subplot(311)\n",
    "plt.imshow(np.max(frame, 2).T)\n",
    "plt.axis('off')\n",
    "plt.title('original')\n",
    "\n",
    "plt.subplot(312)\n",
    "plt.imshow(np.max(t_frame, 2).T)\n",
    "plt.axis('off')\n",
    "plt.title('transformed')\n",
    "\n",
    "plt.subplot(313)\n",
    "plt.imshow(np.max(bc_img, 2).T)\n",
    "plt.axis('off')\n",
    "plt.title('barycenter');"
   ]
  },
  {
   "cell_type": "code",
   "execution_count": 12,
   "metadata": {},
   "outputs": [
    {
     "data": {
      "image/png": "[encoded data removed]",
      "text/plain": [
       "<Figure size 432x288 with 2 Axes>"
      ]
     },
     "metadata": {
      "needs_background": "light"
     },
     "output_type": "display_data"
    }
   ],
   "source": [
    "plt.imshow(np.abs(np.max(bc_img - t_frame, 2)).T)\n",
    "plt.colorbar()\n",
    "plt.axis('off')\n",
    "plt.title('residual');"
   ]
  }
 ],
 "metadata": {
  "kernelspec": {
   "display_name": "Python 3",
   "language": "python",
   "name": "python3"
  },
  "language_info": {
   "codemirror_mode": {
    "name": "ipython",
    "version": 3
   },
   "file_extension": ".py",
   "mimetype": "text/x-python",
   "name": "python",
   "nbconvert_exporter": "python",
   "pygments_lexer": "ipython3",
   "version": "3.7.4"
  }
 },
 "nbformat": 4,
 "nbformat_minor": 4
}
