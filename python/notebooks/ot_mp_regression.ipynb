{
 "cells": [
  {
   "cell_type": "markdown",
   "metadata": {},
   "source": [
    "# OT-guided regression (using MP components)"
   ]
  },
  {
   "cell_type": "code",
   "execution_count": 1,
   "metadata": {},
   "outputs": [],
   "source": [
    "%matplotlib inline"
   ]
  },
  {
   "cell_type": "code",
   "execution_count": 2,
   "metadata": {},
   "outputs": [],
   "source": [
    "import numpy as np\n",
    "import matplotlib.pyplot as plt\n",
    "import ot\n",
    "from sklearn.linear_model import LinearRegression\n",
    "\n",
    "from utils import plot_maxproj, pixel_dist_3d"
   ]
  },
  {
   "cell_type": "code",
   "execution_count": 3,
   "metadata": {},
   "outputs": [],
   "source": [
    "np.random.seed(1993)"
   ]
  },
  {
   "cell_type": "code",
   "execution_count": 7,
   "metadata": {},
   "outputs": [],
   "source": [
    "x1 = np.array([20, 10, 3])\n",
    "x2 = np.array([10, 15, 3])\n",
    "\n",
    "# Affine transformation to apply to source image\n",
    "#theta = np.pi / 16\n",
    "#beta = np.array([\n",
    "#    [np.cos(theta), -np.sin(theta), 0], \n",
    "#    [np.sin(theta),  np.cos(theta), 0],\n",
    "#    [0,              0,             1]\n",
    "#])\n",
    "beta = np.eye(3, 3)\n",
    "alpha = np.array([10, 5, 0])\n",
    "#alpha = np.array([0, 0, 0])\n",
    "\n",
    "x3 = beta @ x1 + alpha\n",
    "x4 = beta @ x2 + alpha"
   ]
  },
  {
   "cell_type": "markdown",
   "metadata": {},
   "source": [
    "### Compute optimal transport plan between frames"
   ]
  },
  {
   "cell_type": "code",
   "execution_count": 9,
   "metadata": {},
   "outputs": [],
   "source": [
    "# Normalized pixel distance matrix \n",
    "#M_nn = pixel_dist_3d(*img_shape)\n",
    "#M = M_nn / np.median(M_nn)\n",
    "\n",
    "# Entropic regularization parameter\n",
    "#reg = 1e-3"
   ]
  },
  {
   "cell_type": "code",
   "execution_count": 10,
   "metadata": {},
   "outputs": [],
   "source": [
    "# Compute transport plan\n",
    "#P = ot.sinkhorn(frame_1.flatten(), frame_2.flatten(), M, reg, verbose=False)"
   ]
  },
  {
   "cell_type": "markdown",
   "metadata": {},
   "source": [
    "### Compute values used for all regression methods"
   ]
  },
  {
   "cell_type": "markdown",
   "metadata": {},
   "source": [
    "### Method 4: Weights are values from P matrix"
   ]
  },
  {
   "cell_type": "code",
   "execution_count": 16,
   "metadata": {},
   "outputs": [
    {
     "name": "stdout",
     "output_type": "stream",
     "text": [
      "MSE (alpha):  4.2667\n",
      "MSE (beta):   0.0062\n",
      "SE  (img):    0.0011\n",
      "alpha (est):\n",
      "[8.77848333 8.36199926 0.07096308]\n",
      "beta (est):\n",
      "[[ 1.00868565e+00  9.11713171e-02 -1.26977069e-03]\n",
      " [-5.35103802e-02  7.89872804e-01  1.16703836e-03]\n",
      " [-1.32680075e-04 -6.02245604e-04  9.73498222e-01]]\n"
     ]
    },
    {
     "data": {
      "image/png": "[encoded data removed]",
      "text/plain": [
       "<Figure size 432x288 with 3 Axes>"
      ]
     },
     "metadata": {
      "needs_background": "light"
     },
     "output_type": "display_data"
    }
   ],
   "source": [
    "pts = grid.reshape(-1, 3)\n",
    "\n",
    "threshold = 1e-7\n",
    "x_idx, y_idx = np.nonzero(P > threshold)\n",
    "\n",
    "pts_x = pts[x_idx]\n",
    "pts_y = pts[y_idx]\n",
    "weights = P[x_idx, y_idx]\n",
    "\n",
    "wls_3 = LinearRegression(fit_intercept=True)\n",
    "wls_3.fit(pts_x, pts_y, sample_weight=weights)\n",
    "\n",
    "print_regression_report(wls_3.intercept_, wls_3.coef_, verbose=True)"
   ]
  }
 ],
 "metadata": {
  "kernelspec": {
   "display_name": "Python 3",
   "language": "python",
   "name": "python3"
  },
  "language_info": {
   "codemirror_mode": {
    "name": "ipython",
    "version": 3
   },
   "file_extension": ".py",
   "mimetype": "text/x-python",
   "name": "python",
   "nbconvert_exporter": "python",
   "pygments_lexer": "ipython3",
   "version": "3.7.4"
  }
 },
 "nbformat": 4,
 "nbformat_minor": 4
}
