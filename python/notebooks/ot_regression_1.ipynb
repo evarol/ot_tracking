{
 "cells": [
  {
   "cell_type": "markdown",
   "metadata": {},
   "source": [
    "# Learning a spatial transforation between images using OT"
   ]
  },
  {
   "cell_type": "code",
   "execution_count": 1,
   "metadata": {},
   "outputs": [],
   "source": [
    "%matplotlib inline"
   ]
  },
  {
   "cell_type": "code",
   "execution_count": 2,
   "metadata": {},
   "outputs": [],
   "source": [
    "import numpy as np\n",
    "import matplotlib.pyplot as plt\n",
    "import ot\n",
    "from scipy.ndimage import affine_transform\n",
    "from scipy.stats import multivariate_normal\n",
    "from sklearn.linear_model import LinearRegression\n",
    "\n",
    "from utils import plot_maxproj, pixel_dist_3d"
   ]
  },
  {
   "cell_type": "code",
   "execution_count": 3,
   "metadata": {},
   "outputs": [],
   "source": [
    "np.random.seed(1993)"
   ]
  },
  {
   "cell_type": "markdown",
   "metadata": {},
   "source": [
    "## The problem\n",
    "\n",
    "Let $A$ and $B$ be images related by a parametrized spatial transform $T_{\\theta}$, such that $B = T_{\\theta}(A)$. Given $A$ and $B$, how can we recover $\\theta$?"
   ]
  },
  {
   "cell_type": "markdown",
   "metadata": {},
   "source": [
    "### Notation\n",
    "\n",
    "- Let $X$ ($n$ * $d$) be the set of pixel locations in $d$-dimensional space, and let $X_i$ be the $i^{th}$ pixel location\n",
    "- Let $a$ and $b$ ($n$ * 1) be pixel intensities for the images $A$ and $B$ (e.g. $a_i$ is the intensity at location $X_i$ in image $A$)"
   ]
  },
  {
   "cell_type": "markdown",
   "metadata": {},
   "source": [
    "### Example\n",
    "\n",
    "For this example, we will make $T$ an affine transform, where $T(x) = \\alpha + \\beta x$, and $\\theta = \\{\\alpha, \\beta\\}$"
   ]
  },
  {
   "cell_type": "markdown",
   "metadata": {},
   "source": [
    "#### Parameters"
   ]
  },
  {
   "cell_type": "code",
   "execution_count": 4,
   "metadata": {},
   "outputs": [],
   "source": [
    "# Image size\n",
    "img_shape = (50, 25, 5)\n",
    "n_pixels = img_shape[0] * img_shape[1] * img_shape[2]\n",
    "\n",
    "# Grid for evaluating densities on\n",
    "xg, yg, zg = np.mgrid[0:img_shape[0], 0:img_shape[1], 0:img_shape[2]]\n",
    "grid = np.stack((xg, yg, zg), axis=-1)"
   ]
  },
  {
   "cell_type": "markdown",
   "metadata": {},
   "source": [
    "#### Create $A$: Sum of three truncated Gaussians"
   ]
  },
  {
   "cell_type": "code",
   "execution_count": 5,
   "metadata": {},
   "outputs": [],
   "source": [
    "# 'Cells' are truncated Gaussians\n",
    "th = 1e-4\n",
    "cov = 3 * np.eye(3)\n",
    "mu_1 = np.array([20, 10, 3])\n",
    "mu_2 = np.array([10, 15, 3])\n",
    "mu_3 = np.array([10, 5, 3])\n",
    "cell_1 = multivariate_normal.pdf(grid, mu_1, cov).reshape(img_shape)\n",
    "cell_2 = multivariate_normal.pdf(grid, mu_2, cov).reshape(img_shape)\n",
    "cell_3 = multivariate_normal.pdf(grid, mu_3, cov).reshape(img_shape)\n",
    "cell_1[cell_1 < th] = 0 \n",
    "cell_2[cell_2 < th] = 0 \n",
    "cell_3[cell_3 < th] = 0 \n",
    "\n",
    "# First image contains two 'cells'\n",
    "A = cell_1  + cell_2 + cell_3"
   ]
  },
  {
   "cell_type": "markdown",
   "metadata": {},
   "source": [
    "#### Choose ground-truth $\\alpha$ and $\\beta$ and use them to create $B$"
   ]
  },
  {
   "cell_type": "code",
   "execution_count": 6,
   "metadata": {},
   "outputs": [],
   "source": [
    "# Affine transformation to apply to source image\n",
    "#theta = np.pi / 16\n",
    "#beta = np.array([\n",
    "#    [np.cos(theta), -np.sin(theta), 0], \n",
    "#    [np.sin(theta),  np.cos(theta), 0],\n",
    "#    [0,              0,             1]\n",
    "#])\n",
    "beta = np.eye(3, 3)\n",
    "alpha = np.array([12, 5, 0])\n",
    "#alpha = np.array([0, 0, 0])\n",
    "\n",
    "# Create B by applying T to A (requires inverse of T)\n",
    "inv_beta = np.linalg.inv(beta)\n",
    "inv_alpha = -inv_beta @ alpha\n",
    "B = affine_transform(A, inv_beta, inv_alpha)"
   ]
  },
  {
   "cell_type": "markdown",
   "metadata": {},
   "source": [
    "#### Add floor value and noise (optional)"
   ]
  },
  {
   "cell_type": "code",
   "execution_count": 7,
   "metadata": {},
   "outputs": [],
   "source": [
    "# Parameters\n",
    "floor_val = 1e-7\n",
    "noise_level = 0\n",
    "\n",
    "# Noise is absolute value of Gaussian\n",
    "noise_1 = np.abs(np.random.randn(*img_shape)) * noise_level\n",
    "noise_2 = np.abs(np.random.randn(*img_shape)) * noise_level\n",
    "\n",
    "A = A + floor_val + noise_1\n",
    "B = B + floor_val + noise_2"
   ]
  },
  {
   "cell_type": "code",
   "execution_count": 8,
   "metadata": {},
   "outputs": [
    {
     "name": "stdout",
     "output_type": "stream",
     "text": [
      "image shape: (50, 25, 5)\n",
      "num. pixels: 6250\n",
      "alpha:\n",
      "[12  5  0]\n",
      "beta:\n",
      "[[1. 0. 0.]\n",
      " [0. 1. 0.]\n",
      " [0. 0. 1.]]\n"
     ]
    },
    {
     "data": {
      "image/png": "[encoded data removed]",
      "text/plain": [
       "<Figure size 720x720 with 2 Axes>"
      ]
     },
     "metadata": {
      "needs_background": "light"
     },
     "output_type": "display_data"
    }
   ],
   "source": [
    "plt.figure(figsize=(10, 10))\n",
    "\n",
    "plt.subplot(121)\n",
    "plot_maxproj(A)\n",
    "plt.title('A')\n",
    "plt.axis('off');\n",
    "\n",
    "plt.subplot(122)\n",
    "plot_maxproj(B)\n",
    "plt.title('B')\n",
    "plt.axis('off');\n",
    "\n",
    "print(f'image shape: {img_shape}')\n",
    "print(f'num. pixels: {n_pixels}')\n",
    "print('alpha:')\n",
    "print(alpha)\n",
    "print('beta:')\n",
    "print(beta)"
   ]
  },
  {
   "cell_type": "markdown",
   "metadata": {},
   "source": [
    "## Proposed solution: Use optimal transport plan to find $\\theta$\n"
   ]
  },
  {
   "cell_type": "markdown",
   "metadata": {},
   "source": [
    "### Example"
   ]
  },
  {
   "cell_type": "markdown",
   "metadata": {},
   "source": [
    "#### Compute optimal transport plan between frames"
   ]
  },
  {
   "cell_type": "code",
   "execution_count": 16,
   "metadata": {},
   "outputs": [],
   "source": [
    "# Entropic regularization parameter\n",
    "reg = 1e-3\n",
    "\n",
    "# Normalized pixel distance matrix \n",
    "M_nn = pixel_dist_3d(*img_shape)\n",
    "M = M_nn / np.median(M_nn)\n",
    "\n",
    "# Compute transport plan\n",
    "P = ot.sinkhorn(A.flatten(), B.flatten(), M, reg, verbose=False)"
   ]
  },
  {
   "cell_type": "markdown",
   "metadata": {},
   "source": [
    "### Compute values used for all regression methods"
   ]
  },
  {
   "cell_type": "markdown",
   "metadata": {},
   "source": [
    "#### Minimize cost function to estimate $\\alpha$ and $\\beta$"
   ]
  },
  {
   "cell_type": "code",
   "execution_count": 17,
   "metadata": {},
   "outputs": [
    {
     "name": "stdout",
     "output_type": "stream",
     "text": [
      "alpha (est):\n",
      "[0.02913729 0.13066218 0.04586527]\n",
      "alpha (true):\n",
      "[12  5  0]\n",
      "beta (est):\n",
      "[[ 9.98665955e-01  3.87692501e-04 -2.49173471e-05]\n",
      " [ 3.19637492e-04  9.88683721e-01  7.28882264e-04]\n",
      " [ 2.03516112e-05  7.87162013e-05  9.77228694e-01]]\n",
      "beta (true):\n",
      "[[1. 0. 0.]\n",
      " [0. 1. 0.]\n",
      " [0. 0. 1.]]\n"
     ]
    }
   ],
   "source": [
    "# Threshold to apply to P matrix (this speeds up computation)\n",
    "p_th = 1e-7\n",
    "\n",
    "# Pixel locations\n",
    "X = grid.reshape(-1, 3)\n",
    "\n",
    "# Get pairs of points with values above threshold, and corresponding weights from P matrix\n",
    "a_idx, b_idx = np.nonzero(P > p_th)\n",
    "pts_a = X[a_idx]\n",
    "pts_b = X[b_idx]\n",
    "weights = P[a_idx, b_idx]\n",
    "\n",
    "# Use sklearn.linear_model.LinearRegression to minimize cost function\n",
    "model = LinearRegression(fit_intercept=True)\n",
    "model.fit(pts_a, pts_b, sample_weight=weights)\n",
    "\n",
    "# Estimates of transform parameters\n",
    "alpha_est = model.intercept_\n",
    "beta_est = model.coef_\n",
    "\n",
    "print('alpha (est):')\n",
    "print(alpha_est)\n",
    "print('alpha (true):')\n",
    "print(alpha)\n",
    "\n",
    "print('beta (est):')\n",
    "print(beta_est)\n",
    "print('beta (true):')\n",
    "print(beta)"
   ]
  },
  {
   "cell_type": "markdown",
   "metadata": {},
   "source": [
    "#### Use estimated transform to reconstruct $B$ from $A$"
   ]
  },
  {
   "cell_type": "code",
   "execution_count": 18,
   "metadata": {},
   "outputs": [
    {
     "data": {
      "image/png": "[encoded data removed]",
      "text/plain": [
       "<Figure size 720x720 with 3 Axes>"
      ]
     },
     "metadata": {
      "needs_background": "light"
     },
     "output_type": "display_data"
    }
   ],
   "source": [
    "# Reconstruct A from B\n",
    "inv_beta_est = np.linalg.inv(beta_est)\n",
    "inv_alpha_est = -inv_beta_est @ alpha_est\n",
    "B_recon = affine_transform(A, inv_beta_est, inv_alpha_est)\n",
    "\n",
    "plt.figure(figsize=(10, 10))\n",
    "\n",
    "plt.subplot(131)\n",
    "plot_maxproj(A)\n",
    "plt.title('A')\n",
    "        \n",
    "plt.subplot(132)\n",
    "plot_maxproj(B)\n",
    "plt.title('B')\n",
    "        \n",
    "plt.subplot(133)\n",
    "plot_maxproj(B_recon)\n",
    "plt.title('B (reconstruction)');"
   ]
  },
  {
   "cell_type": "code",
   "execution_count": null,
   "metadata": {},
   "outputs": [],
   "source": []
  }
 ],
 "metadata": {
  "kernelspec": {
   "display_name": "Python 3",
   "language": "python",
   "name": "python3"
  },
  "language_info": {
   "codemirror_mode": {
    "name": "ipython",
    "version": 3
   },
   "file_extension": ".py",
   "mimetype": "text/x-python",
   "name": "python",
   "nbconvert_exporter": "python",
   "pygments_lexer": "ipython3",
   "version": "3.7.4"
  }
 },
 "nbformat": 4,
 "nbformat_minor": 4
}
