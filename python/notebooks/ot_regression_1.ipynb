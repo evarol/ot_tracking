{
 "cells": [
  {
   "cell_type": "markdown",
   "metadata": {},
   "source": [
    "# Registration of video frames using optimal transport"
   ]
  },
  {
   "cell_type": "markdown",
   "metadata": {},
   "source": [
    "## Description\n",
    "\n",
    "### Problem and general approach\n",
    "\n",
    "The practical problem we are ultimately trying to solve here is learning to 'straighten' videos of freely-behaving *C. elegans* specimens -- more precisely, to map the different frames of a given video into a canonical space where the spatial footprints of the worm's neurons remain static across frames. One way to accomplish this is to learn a spatial transformation between each pair of successive frames that captures the worm's motion, and compose these transformations in order to map all frames to a shared space.\n",
    "\n",
    "Image registration -- the problem of learning the spatial transformation between two images -- has been studied extensively in the computer vision literature. In its most general case, it can be stated as follows. Given two images $A$ and $B$ that are related by a spatial transform $T$ with a known parameteric form and set of parameters $\\theta$, we want to estimate $\\theta$. Without any other assumptions, this case of the problem is extremely difficult to solve. However, for our purposes working with microscopy images, there are a number of additional assumptions we can make. One is that all of the images we work with consist of small regions of high pixel intensity on top of a black background. This means we can expect all regions of high pixel intensity to be affected by $T$. Another is that, because $A$ and $B$ are successive frames in a microscopy video with a reasonably high sample rate, the displacement of objects between $A$ and $B$ should be small, and the correspondence between objects in $A$ and $B$ should be unambiguous.\n",
    "\n",
    "Given these assumptions, we believe we can use an optimal transport (OT) plan to approximate the motion of the objects between images $A$ and $B$. By assuming a parametric form for the transport plan we expect to result from a particular transform $T$ (in terms of its parameters $\\theta$), we can find the value of $\\theta$ that minimizes the difference between this transport plan and the true optimal transport plan. \n",
    "\n",
    "### Derivation\n",
    "\n",
    "#### Notation\n",
    "\n",
    "- $A, B$: Images related by $T_{\\theta}$\n",
    "- $T_{\\theta}$: Spatial transform with list of parameters $\\theta$, that maps $A$ to $B$\n",
    "- $n$: Number of pixels in images $A$ and $B$\n",
    "- $d$: Dimensionality of images $A$ and $B$\n",
    "- $X$ ($n \\times d$): Set of pixel locations in $d$-dimensional space, where $X_i$ be the $i^{th}$ pixel location\n",
    "- $a$, $b$ ($n \\times 1$): Pixel intensities for the images $A$ and $B$ (e.g. $a_i$ is the intensity at location $X_i$ in image $A$)\n",
    "- $P$ ($n \\times n$): Optimal transport matrix for $a$ and $b$\n",
    "- $\\hat{P}_{ij}(\\theta)$ ($n \\times n$): Parametric form of transportation plan corresponding to $T_{\\theta}$\n",
    "\n",
    "#### Parametric form for transportation plan \n",
    "\n",
    "We assume the following parametric form for the transportation plan corresponding to $T_{\\theta}$:\n",
    "\n",
    "$\n",
    "\\begin{equation*}\n",
    "\\hat{P}_{ij}(\\theta) = a_i \\cdot \\exp \\big( \\frac{-||T_{\\theta}(X_i) - X_j||_2^2}{2\\sigma^2} \\big)\n",
    "\\end{equation*}\n",
    "$\n",
    "\n",
    "This form assumes that the transportation plan for a particular $T_{\\theta}$ should transport all the mass $a_i$ from a particular pixel in $A$ to a Gaussian point spread function centered at $T_{\\theta}(X_i)$, with a spread parameter $\\sigma$. It's important to note that, for all values of $\\theta$, $\\hat{P}(\\theta)$ represents a valid joint probability distribution over $(i, j)$, and its first marginal distribution is $a$.\n",
    "\n",
    "#### Loss function\n",
    "\n",
    "To estimate $\\theta$, we first compute the optimal transportation plan $P$ between the distributions $a$ and $b$, using a cost matrix consisting of squared euclidean distances between the pixel locations in $X$. Then, we minimize the KL divergence between $P$ and $\\hat{P}(\\theta)$:\n",
    "\n",
    "$\n",
    "\\begin{equation*}\n",
    "\\theta^* = \\underset{\\theta}{\\mathrm{argmin\\ }} D_{KL}(P || \\hat{P}(\\theta))\n",
    "\\end{equation*}\n",
    "$\n",
    "\n",
    "This KL divergence can be computed using the parametric form we chose for $\\hat{P}(\\theta)$:\n",
    "\n",
    "$\n",
    "\\begin{align*}\n",
    "D_{KL}(P || \\hat{P}(\\theta)) \n",
    "    &= \\sum_{i, j} P_{ij} \\log \\frac{P_{ij}}{\\hat{P}_{ij}(\\theta)} \\\\\n",
    "    &= \\sum_{i, j} P_{ij} \\log P_{ij} - \\sum_{i, j} P_{ij} \\log \\hat{P}_{ij}(\\theta) \\\\\n",
    "    &= \\sum_{i, j} P_{ij} \\log P_{ij} - \\sum_{i, j} P_{ij} \\log \\big[ a_i \\cdot \\exp \\big( \\frac{-||T_{\\theta}(X_i) - X_j||_2^2}{2\\sigma^2} \\big) \\big] \\\\\n",
    "    &= \\sum_{i, j} P_{ij} \\log P_{ij} - \\sum_{i, j} P_{ij} \\log a_i  + \\sum_{i, j} P_{ij} \\frac{||T_{\\theta}(X_i) - X_j||_2^2}{2\\sigma^2} \\\\\n",
    "\\end{align*} \n",
    "$\n",
    "\n",
    "Minimizing this with respect to $\\theta$, we can ignore the first two terms:\n",
    "\n",
    "$\n",
    "\\begin{align*}\n",
    "\\theta^*\n",
    "    &= \\underset{\\theta}{\\mathrm{argmin\\ }} D_{KL}(P || \\hat{P}(\\theta)) \\\\\n",
    "    &= \\underset{\\theta}{\\mathrm{argmin\\ }} \\sum_{i, j} P_{ij} \\log P_{ij} - \\sum_{i, j} P_{ij} \\log a_i  + \\sum_{i, j} P_{ij} \\frac{||T_{\\theta}(X_i) - X_j||_2^2}{2\\sigma^2} \\\\\n",
    "    &= \\underset{\\theta}{\\mathrm{argmin\\ }} \\sum_{i, j} P_{ij} \\frac{||T_{\\theta}(X_i) - X_j||_2^2}{2\\sigma^2} \\\\\n",
    "    &= \\underset{\\theta}{\\mathrm{argmin\\ }} \\sum_{i, j} P_{ij} \\cdot ||T_{\\theta}(X_i) - X_j||_2^2 \\\\\n",
    "\\end{align*}\n",
    "$\n",
    "\n",
    "This minimization problem is equivalent to performing a weighted, least-squares regression where the data set consists of all pairs of pixel locations $(X_i, X_j)$, each weighted by their corresponding value $P_{ij}$ in the optimal transport plan."
   ]
  },
  {
   "cell_type": "markdown",
   "metadata": {},
   "source": [
    "## Synthetic example\n",
    "\n",
    "### Parametric form for $T$ and loss function\n",
    "\n",
    "For this example, we will make $T$ an affine transform, where $T_{\\theta}(x) = \\alpha + \\beta x$, with $\\theta = \\{\\alpha, \\beta\\}$. The loss function then becomes:\n",
    "\n",
    "$\n",
    "\\begin{equation*}\n",
    "\\alpha^*, \\beta^* = \\underset{\\alpha, \\beta}{\\mathrm{argmin\\ }} \\sum_{i, j} P_{ij} \\cdot ||\\beta X_i + \\alpha - X_j||_2^2\n",
    "\\end{equation*}\n",
    "$\n",
    "\n",
    "As noted above, this is equivalent to a weighted, least-squares regression problem, in this case a linear regression, with a dataset containing all pairs of pixel locations. For high-resolution images, this set of points might be prohibitively large, but we can take advantange of the sparsity of $P$ to approximate this sum by only summing over pixel pairs $(i,j)$ where the weight $P_{ij}$ is greater than some chosen threshold.\n",
    "\n",
    "### Implementation\n",
    "\n",
    "In the code below, we create two images related by an affine transformation, and try to use our OT-registration method to recover this transformation and reconstruct image $B$ from image $A$."
   ]
  },
  {
   "cell_type": "code",
   "execution_count": 1,
   "metadata": {},
   "outputs": [],
   "source": [
    "%matplotlib inline"
   ]
  },
  {
   "cell_type": "code",
   "execution_count": 2,
   "metadata": {},
   "outputs": [],
   "source": [
    "import numpy as np\n",
    "import matplotlib.pyplot as plt\n",
    "import ot\n",
    "from scipy.ndimage import affine_transform\n",
    "from scipy.stats import multivariate_normal\n",
    "from sklearn.linear_model import LinearRegression\n",
    "\n",
    "from utils import plot_maxproj, pixel_dist_3d"
   ]
  },
  {
   "cell_type": "markdown",
   "metadata": {},
   "source": [
    "#### Parameters"
   ]
  },
  {
   "cell_type": "code",
   "execution_count": 3,
   "metadata": {},
   "outputs": [],
   "source": [
    "# Random seed \n",
    "np.random.seed(1993)\n",
    "\n",
    "# Image size\n",
    "img_shape = (50, 25, 5)\n",
    "n_pixels = img_shape[0] * img_shape[1] * img_shape[2]\n",
    "\n",
    "# Grid for evaluating densities on\n",
    "xg, yg, zg = np.mgrid[0:img_shape[0], 0:img_shape[1], 0:img_shape[2]]\n",
    "grid = np.stack((xg, yg, zg), axis=-1)"
   ]
  },
  {
   "cell_type": "markdown",
   "metadata": {},
   "source": [
    "#### Create image $A$: Sum of three truncated Gaussians"
   ]
  },
  {
   "cell_type": "code",
   "execution_count": 4,
   "metadata": {},
   "outputs": [],
   "source": [
    "# 'Cells' are truncated Gaussians\n",
    "th = 1e-4\n",
    "cov = 3 * np.eye(3)\n",
    "mu_1 = np.array([20, 10, 3])\n",
    "mu_2 = np.array([10, 15, 3])\n",
    "mu_3 = np.array([10, 5, 3])\n",
    "cell_1 = multivariate_normal.pdf(grid, mu_1, cov).reshape(img_shape)\n",
    "cell_2 = multivariate_normal.pdf(grid, mu_2, cov).reshape(img_shape)\n",
    "cell_3 = multivariate_normal.pdf(grid, mu_3, cov).reshape(img_shape)\n",
    "cell_1[cell_1 < th] = 0 \n",
    "cell_2[cell_2 < th] = 0 \n",
    "cell_3[cell_3 < th] = 0 \n",
    "\n",
    "# First image contains two 'cells'\n",
    "A = cell_1  + cell_2 + cell_3"
   ]
  },
  {
   "cell_type": "markdown",
   "metadata": {},
   "source": [
    "#### Choose ground-truth $\\alpha$ and $\\beta$ and use them to create image $B$"
   ]
  },
  {
   "cell_type": "code",
   "execution_count": 5,
   "metadata": {},
   "outputs": [],
   "source": [
    "# Affine transformation to apply to source image\n",
    "#theta = np.pi / 16\n",
    "#beta = np.array([\n",
    "#    [np.cos(theta), -np.sin(theta), 0], \n",
    "#    [np.sin(theta),  np.cos(theta), 0],\n",
    "#    [0,              0,             1]\n",
    "#])\n",
    "beta = np.eye(3, 3)\n",
    "alpha = np.array([12, 5, 0])\n",
    "#alpha = np.array([0, 0, 0])\n",
    "\n",
    "# Create B by applying T to A (requires inverse of T)\n",
    "inv_beta = np.linalg.inv(beta)\n",
    "inv_alpha = -inv_beta @ alpha\n",
    "B = affine_transform(A, inv_beta, inv_alpha)"
   ]
  },
  {
   "cell_type": "markdown",
   "metadata": {},
   "source": [
    "#### Add floor value and noise, normalize images"
   ]
  },
  {
   "cell_type": "code",
   "execution_count": 6,
   "metadata": {},
   "outputs": [],
   "source": [
    "# Parameters\n",
    "floor_val = 1e-7\n",
    "noise_level = 0\n",
    "\n",
    "# Noise is absolute value of Gaussian\n",
    "noise_1 = np.abs(np.random.randn(*img_shape)) * noise_level\n",
    "noise_2 = np.abs(np.random.randn(*img_shape)) * noise_level\n",
    "\n",
    "# Add floor value and noise\n",
    "A = A + floor_val + noise_1\n",
    "B = B + floor_val + noise_2\n",
    "\n",
    "# Normalize images\n",
    "A = A / np.sum(A)\n",
    "B = B / np.sum(B)\n",
    "\n",
    "plt.figure(figsize=(10, 10))\n",
    "\n",
    "plt.subplot(121)\n",
    "plot_maxproj(A)\n",
    "plt.title('A')\n",
    "plt.axis('off');\n",
    "\n",
    "plt.subplot(122)\n",
    "plot_maxproj(B)\n",
    "plt.title('B')\n",
    "plt.axis('off');\n",
    "\n",
    "print(f'image shape: {img_shape}')\n",
    "print(f'num. pixels: {n_pixels}')\n",
    "print('alpha:')\n",
    "print(alpha)\n",
    "print('beta:')\n",
    "print(beta)"
   ]
  },
  {
   "cell_type": "markdown",
   "metadata": {},
   "source": [
    "#### Compute optimal transport plan between frames\n",
    "\n",
    "**Note:** Right now, we're using the balanced OT approach (`ot.sinkhorn()`) to compute the optimal transport plan between images. While this holds for the synthetic example (i.e. mass is conserved), it might not hold for true data. Need to figure out how to get unbalanced OT approach (`ot.unbalanced.sinkhorn_unbalanced()`) to work here, too."
   ]
  },
  {
   "cell_type": "code",
   "execution_count": 8,
   "metadata": {},
   "outputs": [],
   "source": [
    "# Entropic regularization parameter\n",
    "reg = 1e-3\n",
    "\n",
    "# Normalized pixel distance matrix \n",
    "M_nn = pixel_dist_3d(*img_shape)\n",
    "M = M_nn / np.median(M_nn)\n",
    "\n",
    "# Compute transport plan\n",
    "P = ot.sinkhorn(A.flatten(), B.flatten(), M, reg, verbose=False)"
   ]
  },
  {
   "cell_type": "markdown",
   "metadata": {},
   "source": [
    "#### Minimize cost function to estimate $\\alpha$ and $\\beta$"
   ]
  },
  {
   "cell_type": "code",
   "execution_count": 9,
   "metadata": {},
   "outputs": [
    {
     "name": "stdout",
     "output_type": "stream",
     "text": [
      "alpha (est):\n",
      "[11.87009181  7.36828437  0.07776278]\n",
      "alpha (true):\n",
      "[12  5  0]\n",
      "beta (est):\n",
      "[[ 9.73388326e-01  4.93501370e-02 -7.10781743e-04]\n",
      " [-3.01815149e-02  7.98399993e-01 -4.70360693e-03]\n",
      " [ 5.17250258e-05 -1.48691057e-05  9.68740056e-01]]\n",
      "beta (true):\n",
      "[[1. 0. 0.]\n",
      " [0. 1. 0.]\n",
      " [0. 0. 1.]]\n"
     ]
    }
   ],
   "source": [
    "# Threshold to apply to P matrix (this speeds up computation)\n",
    "p_th = 1e-7\n",
    "\n",
    "# Pixel locations\n",
    "X = grid.reshape(-1, 3)\n",
    "\n",
    "# Get pairs of points with values above threshold, and corresponding weights from P matrix\n",
    "a_idx, b_idx = np.nonzero(P > p_th)\n",
    "pts_a = X[a_idx]\n",
    "pts_b = X[b_idx]\n",
    "weights = P[a_idx, b_idx]\n",
    "\n",
    "# Use sklearn.linear_model.LinearRegression to minimize cost function\n",
    "model = LinearRegression(fit_intercept=True)\n",
    "model.fit(pts_a, pts_b, sample_weight=weights)\n",
    "\n",
    "# Estimates of transform parameters\n",
    "alpha_est = model.intercept_\n",
    "beta_est = model.coef_\n",
    "\n",
    "print('alpha (est):')\n",
    "print(alpha_est)\n",
    "print('alpha (true):')\n",
    "print(alpha)\n",
    "\n",
    "print('beta (est):')\n",
    "print(beta_est)\n",
    "print('beta (true):')\n",
    "print(beta)"
   ]
  },
  {
   "cell_type": "markdown",
   "metadata": {},
   "source": [
    "#### Use estimated transform $T_{\\alpha^*, \\beta^*}$ to reconstruct $B$ from $A$"
   ]
  },
  {
   "cell_type": "code",
   "execution_count": 10,
   "metadata": {},
   "outputs": [
    {
     "data": {
      "image/png": "[encoded data removed]",
      "text/plain": [
       "<Figure size 1080x1080 with 3 Axes>"
      ]
     },
     "metadata": {
      "needs_background": "light"
     },
     "output_type": "display_data"
    }
   ],
   "source": [
    "# Reconstruct A from B\n",
    "inv_beta_est = np.linalg.inv(beta_est)\n",
    "inv_alpha_est = -inv_beta_est @ alpha_est\n",
    "B_recon = affine_transform(A, inv_beta_est, inv_alpha_est)\n",
    "\n",
    "plt.figure(figsize=(15, 15))\n",
    "\n",
    "plt.subplot(131)\n",
    "plot_maxproj(A)\n",
    "plt.title('A')\n",
    "        \n",
    "plt.subplot(132)\n",
    "plot_maxproj(B)\n",
    "plt.title('B')\n",
    "        \n",
    "plt.subplot(133)\n",
    "plot_maxproj(B_recon)\n",
    "plt.title('B (reconstruction)');"
   ]
  }
 ],
 "metadata": {
  "kernelspec": {
   "display_name": "Python 3",
   "language": "python",
   "name": "python3"
  },
  "language_info": {
   "codemirror_mode": {
    "name": "ipython",
    "version": 3
   },
   "file_extension": ".py",
   "mimetype": "text/x-python",
   "name": "python",
   "nbconvert_exporter": "python",
   "pygments_lexer": "ipython3",
   "version": "3.7.4"
  }
 },
 "nbformat": 4,
 "nbformat_minor": 4
}
